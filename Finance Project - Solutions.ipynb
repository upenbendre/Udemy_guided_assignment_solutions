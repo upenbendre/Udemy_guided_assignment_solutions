{
 "cells": [
  {
   "cell_type": "markdown",
   "metadata": {},
   "source": [
    "___\n",
    "\n",
    "<a href='http://www.pieriandata.com'> <img src='../Pierian_Data_Logo.png' /></a>\n",
    "___"
   ]
  },
  {
   "cell_type": "markdown",
   "metadata": {},
   "source": [
    "# Finance Data Project - Solutions\n",
    "\n",
    "In this data project we will focus on exploratory data analysis of stock prices. Keep in mind, this project is just meant to practice your visualization and pandas skills, it is not meant to be a robust financial analysis or be taken as financial advice.\n",
    "____\n",
    "** NOTE: This project is extremely challenging because it will introduce a lot of new concepts and have you looking things up on your own (we'll point you in the right direction) to try to solve the tasks issued. Feel free to just go through the solutions lecture notebook and video as a \"walkthrough\" project if you don't want to have to look things up yourself. You'll still learn a lot that way! **\n",
    "____\n",
    "We'll focus on bank stocks and see how they progressed throughout the [financial crisis](https://en.wikipedia.org/wiki/Financial_crisis_of_2007%E2%80%9308) all the way to early 2016."
   ]
  },
  {
   "cell_type": "markdown",
   "metadata": {},
   "source": [
    "## Get the Data\n",
    "\n",
    "In this section we will learn how to use pandas to directly read data from Google finance using pandas!\n",
    "\n",
    "First we need to start with the proper imports, which we've already laid out for you here.\n",
    "\n",
    "*Note: [You'll need to install pandas-datareader for this to work!](https://github.com/pydata/pandas-datareader) Pandas datareader allows you to [read stock information directly from the internet](http://pandas.pydata.org/pandas-docs/stable/remote_data.html) Use these links for install guidance (**pip install pandas-datareader**), or just follow along with the video lecture.*\n",
    "\n",
    "### The Imports\n",
    "\n",
    "Already filled out for you."
   ]
  },
  {
   "cell_type": "code",
   "execution_count": 2,
   "metadata": {},
   "outputs": [],
   "source": [
    "from pandas_datareader import data, wb\n",
    "import pandas as pd\n",
    "import numpy as np\n",
    "import datetime\n",
    "%matplotlib inline"
   ]
  },
  {
   "cell_type": "markdown",
   "metadata": {},
   "source": [
    "## Data\n",
    "\n",
    "We need to get data using pandas datareader. We will get stock information for the following banks:\n",
    "*  Bank of America\n",
    "* CitiGroup\n",
    "* Goldman Sachs\n",
    "* JPMorgan Chase\n",
    "* Morgan Stanley\n",
    "* Wells Fargo\n",
    "\n",
    "** Figure out how to get the stock data from Jan 1st 2006 to Jan 1st 2016 for each of these banks. Set each bank to be a separate dataframe, with the variable name for that bank being its ticker symbol. This will involve a few steps:**\n",
    "1. Use datetime to set start and end datetime objects.\n",
    "2. Figure out the ticker symbol for each bank.\n",
    "2. Figure out how to use datareader to grab info on the stock.\n",
    "\n",
    "** Use [this documentation page](http://pandas.pydata.org/pandas-docs/stable/remote_data.html) for hints and instructions (it should just be a matter of replacing certain values. Use google finance as a source, for example:**\n",
    "    \n",
    "    # Bank of America\n",
    "    BAC = data.DataReader(\"BAC\", 'google', start, end)\n"
   ]
  },
  {
   "cell_type": "code",
   "execution_count": 14,
   "metadata": {},
   "outputs": [
    {
     "data": {
      "text/html": [
       "<div>\n",
       "<style>\n",
       "    .dataframe thead tr:only-child th {\n",
       "        text-align: right;\n",
       "    }\n",
       "\n",
       "    .dataframe thead th {\n",
       "        text-align: left;\n",
       "    }\n",
       "\n",
       "    .dataframe tbody tr th {\n",
       "        vertical-align: top;\n",
       "    }\n",
       "</style>\n",
       "<table border=\"1\" class=\"dataframe\">\n",
       "  <thead>\n",
       "    <tr>\n",
       "      <th>Bank Ticker</th>\n",
       "      <th colspan=\"5\" halign=\"left\">BAC</th>\n",
       "      <th colspan=\"5\" halign=\"left\">C</th>\n",
       "      <th>...</th>\n",
       "      <th colspan=\"5\" halign=\"left\">MS</th>\n",
       "      <th colspan=\"5\" halign=\"left\">WFC</th>\n",
       "    </tr>\n",
       "    <tr>\n",
       "      <th>Stock Info</th>\n",
       "      <th>Open</th>\n",
       "      <th>High</th>\n",
       "      <th>Low</th>\n",
       "      <th>Close</th>\n",
       "      <th>Volume</th>\n",
       "      <th>Open</th>\n",
       "      <th>High</th>\n",
       "      <th>Low</th>\n",
       "      <th>Close</th>\n",
       "      <th>Volume</th>\n",
       "      <th>...</th>\n",
       "      <th>Open</th>\n",
       "      <th>High</th>\n",
       "      <th>Low</th>\n",
       "      <th>Close</th>\n",
       "      <th>Volume</th>\n",
       "      <th>Open</th>\n",
       "      <th>High</th>\n",
       "      <th>Low</th>\n",
       "      <th>Close</th>\n",
       "      <th>Volume</th>\n",
       "    </tr>\n",
       "    <tr>\n",
       "      <th>Date</th>\n",
       "      <th></th>\n",
       "      <th></th>\n",
       "      <th></th>\n",
       "      <th></th>\n",
       "      <th></th>\n",
       "      <th></th>\n",
       "      <th></th>\n",
       "      <th></th>\n",
       "      <th></th>\n",
       "      <th></th>\n",
       "      <th></th>\n",
       "      <th></th>\n",
       "      <th></th>\n",
       "      <th></th>\n",
       "      <th></th>\n",
       "      <th></th>\n",
       "      <th></th>\n",
       "      <th></th>\n",
       "      <th></th>\n",
       "      <th></th>\n",
       "      <th></th>\n",
       "    </tr>\n",
       "  </thead>\n",
       "  <tbody>\n",
       "    <tr>\n",
       "      <th>2006-01-03</th>\n",
       "      <td>46.92</td>\n",
       "      <td>47.18</td>\n",
       "      <td>46.15</td>\n",
       "      <td>47.08</td>\n",
       "      <td>16296700</td>\n",
       "      <td>490.0</td>\n",
       "      <td>493.8</td>\n",
       "      <td>481.1</td>\n",
       "      <td>492.9</td>\n",
       "      <td>1537660</td>\n",
       "      <td>...</td>\n",
       "      <td>57.17</td>\n",
       "      <td>58.49</td>\n",
       "      <td>56.74</td>\n",
       "      <td>58.31</td>\n",
       "      <td>5377000</td>\n",
       "      <td>31.60</td>\n",
       "      <td>31.98</td>\n",
       "      <td>31.20</td>\n",
       "      <td>31.90</td>\n",
       "      <td>11016400</td>\n",
       "    </tr>\n",
       "    <tr>\n",
       "      <th>2006-01-04</th>\n",
       "      <td>47.00</td>\n",
       "      <td>47.24</td>\n",
       "      <td>46.45</td>\n",
       "      <td>46.58</td>\n",
       "      <td>17757900</td>\n",
       "      <td>488.6</td>\n",
       "      <td>491.0</td>\n",
       "      <td>483.5</td>\n",
       "      <td>483.8</td>\n",
       "      <td>1871020</td>\n",
       "      <td>...</td>\n",
       "      <td>58.70</td>\n",
       "      <td>59.28</td>\n",
       "      <td>58.35</td>\n",
       "      <td>58.35</td>\n",
       "      <td>7977800</td>\n",
       "      <td>31.80</td>\n",
       "      <td>31.82</td>\n",
       "      <td>31.36</td>\n",
       "      <td>31.53</td>\n",
       "      <td>10871000</td>\n",
       "    </tr>\n",
       "    <tr>\n",
       "      <th>2006-01-05</th>\n",
       "      <td>46.58</td>\n",
       "      <td>46.83</td>\n",
       "      <td>46.32</td>\n",
       "      <td>46.64</td>\n",
       "      <td>14970900</td>\n",
       "      <td>484.4</td>\n",
       "      <td>487.8</td>\n",
       "      <td>484.0</td>\n",
       "      <td>486.2</td>\n",
       "      <td>1143160</td>\n",
       "      <td>...</td>\n",
       "      <td>58.55</td>\n",
       "      <td>58.59</td>\n",
       "      <td>58.02</td>\n",
       "      <td>58.51</td>\n",
       "      <td>5778000</td>\n",
       "      <td>31.50</td>\n",
       "      <td>31.56</td>\n",
       "      <td>31.31</td>\n",
       "      <td>31.50</td>\n",
       "      <td>10158000</td>\n",
       "    </tr>\n",
       "    <tr>\n",
       "      <th>2006-01-06</th>\n",
       "      <td>46.80</td>\n",
       "      <td>46.91</td>\n",
       "      <td>46.35</td>\n",
       "      <td>46.57</td>\n",
       "      <td>12599800</td>\n",
       "      <td>488.8</td>\n",
       "      <td>489.0</td>\n",
       "      <td>482.0</td>\n",
       "      <td>486.2</td>\n",
       "      <td>1370250</td>\n",
       "      <td>...</td>\n",
       "      <td>58.77</td>\n",
       "      <td>58.85</td>\n",
       "      <td>58.05</td>\n",
       "      <td>58.57</td>\n",
       "      <td>6889800</td>\n",
       "      <td>31.58</td>\n",
       "      <td>31.78</td>\n",
       "      <td>31.38</td>\n",
       "      <td>31.68</td>\n",
       "      <td>8403800</td>\n",
       "    </tr>\n",
       "    <tr>\n",
       "      <th>2006-01-09</th>\n",
       "      <td>46.72</td>\n",
       "      <td>46.97</td>\n",
       "      <td>46.36</td>\n",
       "      <td>46.60</td>\n",
       "      <td>15620000</td>\n",
       "      <td>486.0</td>\n",
       "      <td>487.4</td>\n",
       "      <td>483.0</td>\n",
       "      <td>483.9</td>\n",
       "      <td>1680740</td>\n",
       "      <td>...</td>\n",
       "      <td>58.63</td>\n",
       "      <td>59.29</td>\n",
       "      <td>58.62</td>\n",
       "      <td>59.19</td>\n",
       "      <td>4144500</td>\n",
       "      <td>31.68</td>\n",
       "      <td>31.82</td>\n",
       "      <td>31.56</td>\n",
       "      <td>31.68</td>\n",
       "      <td>5619600</td>\n",
       "    </tr>\n",
       "  </tbody>\n",
       "</table>\n",
       "<p>5 rows × 30 columns</p>\n",
       "</div>"
      ],
      "text/plain": [
       "Bank Ticker    BAC                                     C                       \\\n",
       "Stock Info    Open   High    Low  Close    Volume   Open   High    Low  Close   \n",
       "Date                                                                            \n",
       "2006-01-03   46.92  47.18  46.15  47.08  16296700  490.0  493.8  481.1  492.9   \n",
       "2006-01-04   47.00  47.24  46.45  46.58  17757900  488.6  491.0  483.5  483.8   \n",
       "2006-01-05   46.58  46.83  46.32  46.64  14970900  484.4  487.8  484.0  486.2   \n",
       "2006-01-06   46.80  46.91  46.35  46.57  12599800  488.8  489.0  482.0  486.2   \n",
       "2006-01-09   46.72  46.97  46.36  46.60  15620000  486.0  487.4  483.0  483.9   \n",
       "\n",
       "Bank Ticker             ...        MS                                  WFC  \\\n",
       "Stock Info    Volume    ...      Open   High    Low  Close   Volume   Open   \n",
       "Date                    ...                                                  \n",
       "2006-01-03   1537660    ...     57.17  58.49  56.74  58.31  5377000  31.60   \n",
       "2006-01-04   1871020    ...     58.70  59.28  58.35  58.35  7977800  31.80   \n",
       "2006-01-05   1143160    ...     58.55  58.59  58.02  58.51  5778000  31.50   \n",
       "2006-01-06   1370250    ...     58.77  58.85  58.05  58.57  6889800  31.58   \n",
       "2006-01-09   1680740    ...     58.63  59.29  58.62  59.19  4144500  31.68   \n",
       "\n",
       "Bank Ticker                                 \n",
       "Stock Info    High    Low  Close    Volume  \n",
       "Date                                        \n",
       "2006-01-03   31.98  31.20  31.90  11016400  \n",
       "2006-01-04   31.82  31.36  31.53  10871000  \n",
       "2006-01-05   31.56  31.31  31.50  10158000  \n",
       "2006-01-06   31.78  31.38  31.68   8403800  \n",
       "2006-01-09   31.82  31.56  31.68   5619600  \n",
       "\n",
       "[5 rows x 30 columns]"
      ]
     },
     "execution_count": 14,
     "metadata": {},
     "output_type": "execute_result"
    }
   ],
   "source": [
    "start = datetime.datetime(2006, 1, 1)\n",
    "end = datetime.datetime(2016, 1, 1)\n",
    "df = pd.read_pickle('all_banks')\n",
    "df.head()\n"
   ]
  },
  {
   "cell_type": "code",
   "execution_count": 6,
   "metadata": {},
   "outputs": [
    {
     "data": {
      "text/plain": [
       "'\\n# Bank of America\\nBAC = data.DataReader(\"BAC\", \\'google\\', start, end)\\n\\n# CitiGroup\\nC = data.DataReader(\"C\", \\'google\\', start, end)\\n\\n# Goldman Sachs\\nGS = data.DataReader(\"GS\", \\'google\\', start, end)\\n\\n# JPMorgan Chase\\nJPM = data.DataReader(\"JPM\", \\'google\\', start, end)\\n\\n# Morgan Stanley\\nMS = data.DataReader(\"MS\", \\'google\\', start, end)\\n\\n# Wells Fargo\\nWFC = data.DataReader(\"WFC\", \\'google\\', start, end)\\n'"
      ]
     },
     "execution_count": 6,
     "metadata": {},
     "output_type": "execute_result"
    }
   ],
   "source": [
    "\"\"\"\n",
    "# Bank of America\n",
    "BAC = data.DataReader(\"BAC\", 'google', start, end)\n",
    "\n",
    "# CitiGroup\n",
    "C = data.DataReader(\"C\", 'google', start, end)\n",
    "\n",
    "# Goldman Sachs\n",
    "GS = data.DataReader(\"GS\", 'google', start, end)\n",
    "\n",
    "# JPMorgan Chase\n",
    "JPM = data.DataReader(\"JPM\", 'google', start, end)\n",
    "\n",
    "# Morgan Stanley\n",
    "MS = data.DataReader(\"MS\", 'google', start, end)\n",
    "\n",
    "# Wells Fargo\n",
    "WFC = data.DataReader(\"WFC\", 'google', start, end)\n",
    "\"\"\""
   ]
  },
  {
   "cell_type": "code",
   "execution_count": 7,
   "metadata": {},
   "outputs": [],
   "source": [
    "# Could also do this for a Panel Object\n",
    "#df = data.DataReader(['BAC', 'C', 'GS', 'JPM', 'MS', 'WFC'],'google', start, end)"
   ]
  },
  {
   "cell_type": "markdown",
   "metadata": {},
   "source": [
    "** Create a list of the ticker symbols (as strings) in alphabetical order. Call this list: tickers**"
   ]
  },
  {
   "cell_type": "code",
   "execution_count": 12,
   "metadata": {},
   "outputs": [],
   "source": [
    "tickers = ['BAC', 'C', 'GS', 'JPM', 'MS', 'WFC']"
   ]
  },
  {
   "cell_type": "markdown",
   "metadata": {},
   "source": [
    "** Use pd.concat to concatenate the bank dataframes together to a single data frame called bank_stocks. Set the keys argument equal to the tickers list. Also pay attention to what axis you concatenate on.**"
   ]
  },
  {
   "cell_type": "code",
   "execution_count": 13,
   "metadata": {},
   "outputs": [
    {
     "ename": "TypeError",
     "evalue": "cannot concatenate a non-NDFrame object",
     "output_type": "error",
     "traceback": [
      "\u001b[1;31m---------------------------------------------------------------------------\u001b[0m",
      "\u001b[1;31mTypeError\u001b[0m                                 Traceback (most recent call last)",
      "\u001b[1;32m<ipython-input-13-0614cc0d2505>\u001b[0m in \u001b[0;36m<module>\u001b[1;34m()\u001b[0m\n\u001b[1;32m----> 1\u001b[1;33m \u001b[0mbank_stocks\u001b[0m \u001b[1;33m=\u001b[0m \u001b[0mpd\u001b[0m\u001b[1;33m.\u001b[0m\u001b[0mconcat\u001b[0m\u001b[1;33m(\u001b[0m\u001b[1;33m[\u001b[0m\u001b[1;34m'BAC'\u001b[0m\u001b[1;33m,\u001b[0m \u001b[1;34m'C'\u001b[0m\u001b[1;33m,\u001b[0m \u001b[1;34m'GS'\u001b[0m\u001b[1;33m,\u001b[0m \u001b[1;34m'JPM'\u001b[0m\u001b[1;33m,\u001b[0m \u001b[1;34m'MS'\u001b[0m\u001b[1;33m,\u001b[0m \u001b[1;34m'WFC'\u001b[0m\u001b[1;33m]\u001b[0m\u001b[1;33m,\u001b[0m\u001b[0maxis\u001b[0m\u001b[1;33m=\u001b[0m\u001b[1;36m1\u001b[0m\u001b[1;33m,\u001b[0m\u001b[0mkeys\u001b[0m\u001b[1;33m=\u001b[0m\u001b[0mtickers\u001b[0m\u001b[1;33m)\u001b[0m\u001b[1;33m\u001b[0m\u001b[0m\n\u001b[0m",
      "\u001b[1;32mC:\\Anaconda\\lib\\site-packages\\pandas\\core\\reshape\\concat.py\u001b[0m in \u001b[0;36mconcat\u001b[1;34m(objs, axis, join, join_axes, ignore_index, keys, levels, names, verify_integrity, copy)\u001b[0m\n\u001b[0;32m    204\u001b[0m                        \u001b[0mkeys\u001b[0m\u001b[1;33m=\u001b[0m\u001b[0mkeys\u001b[0m\u001b[1;33m,\u001b[0m \u001b[0mlevels\u001b[0m\u001b[1;33m=\u001b[0m\u001b[0mlevels\u001b[0m\u001b[1;33m,\u001b[0m \u001b[0mnames\u001b[0m\u001b[1;33m=\u001b[0m\u001b[0mnames\u001b[0m\u001b[1;33m,\u001b[0m\u001b[1;33m\u001b[0m\u001b[0m\n\u001b[0;32m    205\u001b[0m                        \u001b[0mverify_integrity\u001b[0m\u001b[1;33m=\u001b[0m\u001b[0mverify_integrity\u001b[0m\u001b[1;33m,\u001b[0m\u001b[1;33m\u001b[0m\u001b[0m\n\u001b[1;32m--> 206\u001b[1;33m                        copy=copy)\n\u001b[0m\u001b[0;32m    207\u001b[0m     \u001b[1;32mreturn\u001b[0m \u001b[0mop\u001b[0m\u001b[1;33m.\u001b[0m\u001b[0mget_result\u001b[0m\u001b[1;33m(\u001b[0m\u001b[1;33m)\u001b[0m\u001b[1;33m\u001b[0m\u001b[0m\n\u001b[0;32m    208\u001b[0m \u001b[1;33m\u001b[0m\u001b[0m\n",
      "\u001b[1;32mC:\\Anaconda\\lib\\site-packages\\pandas\\core\\reshape\\concat.py\u001b[0m in \u001b[0;36m__init__\u001b[1;34m(self, objs, axis, join, join_axes, keys, levels, names, ignore_index, verify_integrity, copy)\u001b[0m\n\u001b[0;32m    261\u001b[0m         \u001b[1;32mfor\u001b[0m \u001b[0mobj\u001b[0m \u001b[1;32min\u001b[0m \u001b[0mobjs\u001b[0m\u001b[1;33m:\u001b[0m\u001b[1;33m\u001b[0m\u001b[0m\n\u001b[0;32m    262\u001b[0m             \u001b[1;32mif\u001b[0m \u001b[1;32mnot\u001b[0m \u001b[0misinstance\u001b[0m\u001b[1;33m(\u001b[0m\u001b[0mobj\u001b[0m\u001b[1;33m,\u001b[0m \u001b[0mNDFrame\u001b[0m\u001b[1;33m)\u001b[0m\u001b[1;33m:\u001b[0m\u001b[1;33m\u001b[0m\u001b[0m\n\u001b[1;32m--> 263\u001b[1;33m                 \u001b[1;32mraise\u001b[0m \u001b[0mTypeError\u001b[0m\u001b[1;33m(\u001b[0m\u001b[1;34m\"cannot concatenate a non-NDFrame object\"\u001b[0m\u001b[1;33m)\u001b[0m\u001b[1;33m\u001b[0m\u001b[0m\n\u001b[0m\u001b[0;32m    264\u001b[0m \u001b[1;33m\u001b[0m\u001b[0m\n\u001b[0;32m    265\u001b[0m             \u001b[1;31m# consolidate\u001b[0m\u001b[1;33m\u001b[0m\u001b[1;33m\u001b[0m\u001b[0m\n",
      "\u001b[1;31mTypeError\u001b[0m: cannot concatenate a non-NDFrame object"
     ]
    }
   ],
   "source": [
    "bank_stocks = pd.concat([BAC, C, GS, JPM, MS, WFC],axis=1,keys=tickers)"
   ]
  },
  {
   "cell_type": "markdown",
   "metadata": {},
   "source": [
    "** Set the column name levels (this is filled out for you):**"
   ]
  },
  {
   "cell_type": "code",
   "execution_count": 11,
   "metadata": {},
   "outputs": [
    {
     "ename": "NameError",
     "evalue": "name 'bank_stocks' is not defined",
     "output_type": "error",
     "traceback": [
      "\u001b[1;31m---------------------------------------------------------------------------\u001b[0m",
      "\u001b[1;31mNameError\u001b[0m                                 Traceback (most recent call last)",
      "\u001b[1;32m<ipython-input-11-354636e54cbe>\u001b[0m in \u001b[0;36m<module>\u001b[1;34m()\u001b[0m\n\u001b[1;32m----> 1\u001b[1;33m \u001b[0mbank_stocks\u001b[0m\u001b[1;33m.\u001b[0m\u001b[0mcolumns\u001b[0m\u001b[1;33m.\u001b[0m\u001b[0mnames\u001b[0m \u001b[1;33m=\u001b[0m \u001b[1;33m[\u001b[0m\u001b[1;34m'Bank Ticker'\u001b[0m\u001b[1;33m,\u001b[0m\u001b[1;34m'Stock Info'\u001b[0m\u001b[1;33m]\u001b[0m\u001b[1;33m\u001b[0m\u001b[0m\n\u001b[0m",
      "\u001b[1;31mNameError\u001b[0m: name 'bank_stocks' is not defined"
     ]
    }
   ],
   "source": [
    "bank_stocks.columns.names = ['Bank Ticker','Stock Info']"
   ]
  },
  {
   "cell_type": "markdown",
   "metadata": {},
   "source": [
    "** Check the head of the bank_stocks dataframe.**"
   ]
  },
  {
   "cell_type": "code",
   "execution_count": null,
   "metadata": {},
   "outputs": [],
   "source": [
    "bank_stocks.head()"
   ]
  },
  {
   "cell_type": "markdown",
   "metadata": {},
   "source": [
    "# EDA\n",
    "\n",
    "Let's explore the data a bit! Before continuing, I encourage you to check out the documentation on [Multi-Level Indexing](http://pandas.pydata.org/pandas-docs/stable/advanced.html) and [Using .xs](http://pandas.pydata.org/pandas-docs/stable/generated/pandas.DataFrame.xs.html).\n",
    "Reference the solutions if you can not figure out how to use .xs(), since that will be a major part of this project.\n",
    "\n",
    "** What is the max Close price for each bank's stock throughout the time period?**"
   ]
  },
  {
   "cell_type": "code",
   "execution_count": null,
   "metadata": {},
   "outputs": [],
   "source": [
    "bank_stocks.xs(key='Close',axis=1,level='Stock Info').max()"
   ]
  },
  {
   "cell_type": "markdown",
   "metadata": {},
   "source": [
    "** Create a new empty DataFrame called returns. This dataframe will contain the returns for each bank's stock. returns are typically defined by:**\n",
    "\n",
    "$$r_t = \\frac{p_t - p_{t-1}}{p_{t-1}} = \\frac{p_t}{p_{t-1}} - 1$$"
   ]
  },
  {
   "cell_type": "code",
   "execution_count": null,
   "metadata": {},
   "outputs": [],
   "source": [
    "returns = pd.DataFrame()"
   ]
  },
  {
   "cell_type": "markdown",
   "metadata": {},
   "source": [
    "** We can use pandas pct_change() method on the Close column to create a column representing this return value. Create a for loop that goes and for each Bank Stock Ticker creates this returns column and set's it as a column in the returns DataFrame.**"
   ]
  },
  {
   "cell_type": "code",
   "execution_count": null,
   "metadata": {},
   "outputs": [],
   "source": [
    "for tick in tickers:\n",
    "    returns[tick+' Return'] = bank_stocks[tick]['Close'].pct_change()\n",
    "returns.head()"
   ]
  },
  {
   "cell_type": "markdown",
   "metadata": {},
   "source": [
    "** Create a pairplot using seaborn of the returns dataframe. What stock stands out to you? Can you figure out why?**"
   ]
  },
  {
   "cell_type": "code",
   "execution_count": null,
   "metadata": {},
   "outputs": [],
   "source": [
    "#returns[1:]\n",
    "import seaborn as sns\n",
    "sns.pairplot(returns[1:])"
   ]
  },
  {
   "cell_type": "markdown",
   "metadata": {},
   "source": [
    "Background on [Citigroup's Stock Crash available here.](https://en.wikipedia.org/wiki/Citigroup#November_2008.2C_Collapse_.26_US_Government_Intervention_.28part_of_the_Global_Financial_Crisis.29) \n",
    "\n",
    "You'll also see the enormous crash in value if you take a look a the stock price plot (which we do later in the visualizations.)"
   ]
  },
  {
   "cell_type": "markdown",
   "metadata": {},
   "source": [
    "** Using this returns DataFrame, figure out on what dates each bank stock had the best and worst single day returns. You should notice that 4 of the banks share the same day for the worst drop, did anything significant happen that day?**"
   ]
  },
  {
   "cell_type": "code",
   "execution_count": null,
   "metadata": {},
   "outputs": [],
   "source": [
    "# Worst Drop (4 of them on Inauguration day)\n",
    "returns.idxmin()"
   ]
  },
  {
   "cell_type": "markdown",
   "metadata": {},
   "source": [
    "** You should have noticed that Citigroup's largest drop and biggest gain were very close to one another, did anythign significant happen in that time frame? **"
   ]
  },
  {
   "cell_type": "markdown",
   "metadata": {},
   "source": [
    "[Citigroup had a stock split.](https://www.google.com/webhp?sourceid=chrome-instant&ion=1&espv=2&ie=UTF-8#q=citigroup+stock+2011+may)"
   ]
  },
  {
   "cell_type": "code",
   "execution_count": null,
   "metadata": {},
   "outputs": [],
   "source": [
    "# Best Single Day Gain\n",
    "# citigroup stock split in May 2011, but also JPM day after inauguration.\n",
    "returns.idxmax()"
   ]
  },
  {
   "cell_type": "markdown",
   "metadata": {},
   "source": [
    "** Take a look at the standard deviation of the returns, which stock would you classify as the riskiest over the entire time period? Which would you classify as the riskiest for the year 2015?**"
   ]
  },
  {
   "cell_type": "code",
   "execution_count": null,
   "metadata": {},
   "outputs": [],
   "source": [
    "returns.std() # Citigroup riskiest"
   ]
  },
  {
   "cell_type": "code",
   "execution_count": null,
   "metadata": {},
   "outputs": [],
   "source": [
    "returns.ix['2015-01-01':'2015-12-31'].std() # Very similar risk profiles, but Morgan Stanley or BofA"
   ]
  },
  {
   "cell_type": "markdown",
   "metadata": {},
   "source": [
    "** Create a distplot using seaborn of the 2015 returns for Morgan Stanley **"
   ]
  },
  {
   "cell_type": "code",
   "execution_count": null,
   "metadata": {},
   "outputs": [],
   "source": [
    "sns.distplot(returns.ix['2015-01-01':'2015-12-31']['MS Return'],color='green',bins=100)"
   ]
  },
  {
   "cell_type": "markdown",
   "metadata": {},
   "source": [
    "** Create a distplot using seaborn of the 2008 returns for CitiGroup **"
   ]
  },
  {
   "cell_type": "code",
   "execution_count": null,
   "metadata": {},
   "outputs": [],
   "source": [
    "sns.distplot(returns.ix['2008-01-01':'2008-12-31']['C Return'],color='red',bins=100)"
   ]
  },
  {
   "cell_type": "markdown",
   "metadata": {},
   "source": [
    "____\n",
    "# More Visualization\n",
    "\n",
    "A lot of this project will focus on visualizations. Feel free to use any of your preferred visualization libraries to try to recreate the described plots below, seaborn, matplotlib, plotly and cufflinks, or just pandas.\n",
    "\n",
    "### Imports"
   ]
  },
  {
   "cell_type": "code",
   "execution_count": null,
   "metadata": {},
   "outputs": [],
   "source": [
    "import matplotlib.pyplot as plt\n",
    "import seaborn as sns\n",
    "sns.set_style('whitegrid')\n",
    "%matplotlib inline\n",
    "\n",
    "# Optional Plotly Method Imports\n",
    "import plotly\n",
    "import cufflinks as cf\n",
    "cf.go_offline()"
   ]
  },
  {
   "cell_type": "markdown",
   "metadata": {},
   "source": [
    "** Create a line plot showing Close price for each bank for the entire index of time. (Hint: Try using a for loop, or use [.xs](http://pandas.pydata.org/pandas-docs/stable/generated/pandas.DataFrame.xs.html) to get a cross section of the data.)**"
   ]
  },
  {
   "cell_type": "code",
   "execution_count": null,
   "metadata": {},
   "outputs": [],
   "source": [
    "for tick in tickers:\n",
    "    bank_stocks[tick]['Close'].plot(figsize=(12,4),label=tick)\n",
    "plt.legend()"
   ]
  },
  {
   "cell_type": "code",
   "execution_count": null,
   "metadata": {},
   "outputs": [],
   "source": [
    "bank_stocks.xs(key='Close',axis=1,level='Stock Info').plot()"
   ]
  },
  {
   "cell_type": "code",
   "execution_count": null,
   "metadata": {},
   "outputs": [],
   "source": [
    "# plotly\n",
    "bank_stocks.xs(key='Close',axis=1,level='Stock Info').iplot()"
   ]
  },
  {
   "cell_type": "markdown",
   "metadata": {},
   "source": [
    "## Moving Averages\n",
    "\n",
    "Let's analyze the moving averages for these stocks in the year 2008. \n",
    "\n",
    "** Plot the rolling 30 day average against the Close Price for Bank Of America's stock for the year 2008**"
   ]
  },
  {
   "cell_type": "code",
   "execution_count": null,
   "metadata": {},
   "outputs": [],
   "source": [
    "plt.figure(figsize=(12,6))\n",
    "BAC['Close'].ix['2008-01-01':'2009-01-01'].rolling(window=30).mean().plot(label='30 Day Avg')\n",
    "BAC['Close'].ix['2008-01-01':'2009-01-01'].plot(label='BAC CLOSE')\n",
    "plt.legend()"
   ]
  },
  {
   "cell_type": "markdown",
   "metadata": {},
   "source": [
    "** Create a heatmap of the correlation between the stocks Close Price.**"
   ]
  },
  {
   "cell_type": "code",
   "execution_count": null,
   "metadata": {},
   "outputs": [],
   "source": [
    "sns.heatmap(bank_stocks.xs(key='Close',axis=1,level='Stock Info').corr(),annot=True)"
   ]
  },
  {
   "cell_type": "markdown",
   "metadata": {},
   "source": [
    "** Optional: Use seaborn's clustermap to cluster the correlations together:**"
   ]
  },
  {
   "cell_type": "code",
   "execution_count": null,
   "metadata": {},
   "outputs": [],
   "source": [
    "sns.clustermap(bank_stocks.xs(key='Close',axis=1,level='Stock Info').corr(),annot=True)"
   ]
  },
  {
   "cell_type": "code",
   "execution_count": 27,
   "metadata": {},
   "outputs": [
    {
     "data": {
      "text/html": [
       "<div id=\"cd675226-5ff3-46c8-a25f-4729aed35959\" style=\"height: 525px; width: 100%;\" class=\"plotly-graph-div\"></div><script type=\"text/javascript\">require([\"plotly\"], function(Plotly) { window.PLOTLYENV=window.PLOTLYENV || {};window.PLOTLYENV.BASE_URL=\"https://plot.ly\";Plotly.newPlot(\"cd675226-5ff3-46c8-a25f-4729aed35959\", [{\"colorscale\": [[0.0, \"rgb(165,0,38)\"], [0.1, \"rgb(215,48,39)\"], [0.2, \"rgb(244,109,67)\"], [0.3, \"rgb(253,174,97)\"], [0.4, \"rgb(254,224,144)\"], [0.5, \"rgb(255,255,191)\"], [0.6, \"rgb(224,243,248)\"], [0.7, \"rgb(171,217,233)\"], [0.8, \"rgb(116,173,209)\"], [0.9, \"rgb(69,117,180)\"], [1.0, \"rgb(49,54,149)\"]], \"y\": [\"BAC\", \"C\", \"GS\", \"JPM\", \"MS\", \"WFC\"], \"x\": [\"BAC\", \"C\", \"GS\", \"JPM\", \"MS\", \"WFC\"], \"z\": [[1.0, 0.9715137697087325, 0.5509501372549771, 0.10389606365085878, 0.9442192943385206, 0.008566851425732356], [0.9715137697087325, 1.0, 0.4341706182992412, 0.003539648273630715, 0.9336049414173658, -0.06844121334375318], [0.5509501372549771, 0.4341706182992412, 1.0, 0.6852800930477508, 0.6838343355266356, 0.49990056908926706], [0.10389606365085878, 0.003539648273630715, 0.6852800930477508, 1.0, 0.2504414625379649, 0.9402793430048735], [0.9442192943385206, 0.9336049414173658, 0.6838343355266356, 0.2504414625379649, 1.0, 0.13186436649701283], [0.008566851425732356, -0.06844121334375318, 0.49990056908926706, 0.9402793430048735, 0.13186436649701283, 1.0]], \"type\": \"heatmap\"}], {\"legend\": {\"bgcolor\": \"#FFFFFF\", \"font\": {\"color\": \"#666666\"}}, \"titlefont\": {\"color\": \"#151516\"}, \"paper_bgcolor\": \"#FFFFFF\", \"plot_bgcolor\": \"#E5E5E5\", \"yaxis1\": {\"titlefont\": {\"color\": \"#666666\"}, \"showgrid\": true, \"tickfont\": {\"color\": \"#666666\"}, \"zerolinecolor\": \"#F6F6F6\", \"gridcolor\": \"#F6F6F6\", \"title\": \"\"}, \"xaxis1\": {\"titlefont\": {\"color\": \"#666666\"}, \"showgrid\": true, \"tickfont\": {\"color\": \"#666666\"}, \"zerolinecolor\": \"#F6F6F6\", \"gridcolor\": \"#F6F6F6\", \"title\": \"\"}}, {\"linkText\": \"Export to plot.ly\", \"showLink\": true})});</script>"
      ],
      "text/plain": [
       "<IPython.core.display.HTML object>"
      ]
     },
     "metadata": {},
     "output_type": "display_data"
    }
   ],
   "source": [
    "close_corr = bank_stocks.xs(key='Close',axis=1,level='Stock Info').corr()\n",
    "close_corr.iplot(kind='heatmap',colorscale='rdylbu')"
   ]
  },
  {
   "cell_type": "markdown",
   "metadata": {},
   "source": [
    "# Part 2 (Optional)\n",
    "\n",
    "In this second part of the project we will rely on the cufflinks library to create some Technical Analysis plots. This part of the project is experimental due to its heavy reliance on the cuffinks project, so feel free to skip it if any functionality is broken in the future."
   ]
  },
  {
   "cell_type": "markdown",
   "metadata": {
    "collapsed": true
   },
   "source": [
    "** Use .iplot(kind='candle) to create a candle plot of Bank of America's stock from Jan 1st 2015 to Jan 1st 2016.**"
   ]
  },
  {
   "cell_type": "code",
   "execution_count": 28,
   "metadata": {},
   "outputs": [
    {
     "data": {
      "text/html": [
       "<div id=\"23345388-9959-4eaa-b976-7757e750a812\" style=\"height: 525px; width: 100%;\" class=\"plotly-graph-div\"></div><script type=\"text/javascript\">require([\"plotly\"], function(Plotly) { window.PLOTLYENV=window.PLOTLYENV || {};window.PLOTLYENV.BASE_URL=\"https://plot.ly\";Plotly.newPlot(\"23345388-9959-4eaa-b976-7757e750a812\", [{\"fillcolor\": \"#3D9970\", \"x\": [\"2015-01-08\", \"2015-01-08\", \"2015-01-08\", \"2015-01-08\", \"2015-01-08\", \"2015-01-08\", \"2015-01-14\", \"2015-01-14\", \"2015-01-14\", \"2015-01-14\", \"2015-01-14\", \"2015-01-14\", \"2015-01-16\", \"2015-01-16\", \"2015-01-16\", \"2015-01-16\", \"2015-01-16\", \"2015-01-16\", \"2015-01-21\", \"2015-01-21\", \"2015-01-21\", \"2015-01-21\", \"2015-01-21\", \"2015-01-21\", \"2015-01-22\", \"2015-01-22\", \"2015-01-22\", \"2015-01-22\", \"2015-01-22\", \"2015-01-22\", \"2015-01-26\", \"2015-01-26\", \"2015-01-26\", \"2015-01-26\", \"2015-01-26\", \"2015-01-26\", \"2015-01-27\", \"2015-01-27\", \"2015-01-27\", \"2015-01-27\", \"2015-01-27\", \"2015-01-27\", \"2015-01-29\", \"2015-01-29\", \"2015-01-29\", \"2015-01-29\", \"2015-01-29\", \"2015-01-29\", \"2015-02-02\", \"2015-02-02\", \"2015-02-02\", \"2015-02-02\", \"2015-02-02\", \"2015-02-02\", \"2015-02-03\", \"2015-02-03\", \"2015-02-03\", \"2015-02-03\", \"2015-02-03\", \"2015-02-03\", \"2015-02-06\", \"2015-02-06\", \"2015-02-06\", \"2015-02-06\", \"2015-02-06\", \"2015-02-06\", \"2015-02-11\", \"2015-02-11\", \"2015-02-11\", \"2015-02-11\", \"2015-02-11\", \"2015-02-11\", \"2015-02-12\", \"2015-02-12\", \"2015-02-12\", \"2015-02-12\", \"2015-02-12\", \"2015-02-12\", \"2015-02-17\", \"2015-02-17\", \"2015-02-17\", \"2015-02-17\", \"2015-02-17\", \"2015-02-17\", \"2015-02-20\", \"2015-02-20\", \"2015-02-20\", \"2015-02-20\", \"2015-02-20\", \"2015-02-20\", \"2015-02-24\", \"2015-02-24\", \"2015-02-24\", \"2015-02-24\", \"2015-02-24\", \"2015-02-24\", \"2015-02-25\", \"2015-02-25\", \"2015-02-25\", \"2015-02-25\", \"2015-02-25\", \"2015-02-25\", \"2015-02-27\", \"2015-02-27\", \"2015-02-27\", \"2015-02-27\", \"2015-02-27\", \"2015-02-27\", \"2015-03-02\", \"2015-03-02\", \"2015-03-02\", \"2015-03-02\", \"2015-03-02\", \"2015-03-02\", \"2015-03-03\", \"2015-03-03\", \"2015-03-03\", \"2015-03-03\", \"2015-03-03\", \"2015-03-03\", \"2015-03-05\", \"2015-03-05\", \"2015-03-05\", \"2015-03-05\", \"2015-03-05\", \"2015-03-05\", \"2015-03-11\", \"2015-03-11\", \"2015-03-11\", \"2015-03-11\", \"2015-03-11\", \"2015-03-11\", \"2015-03-12\", \"2015-03-12\", \"2015-03-12\", \"2015-03-12\", \"2015-03-12\", \"2015-03-12\", \"2015-03-13\", \"2015-03-13\", \"2015-03-13\", \"2015-03-13\", \"2015-03-13\", \"2015-03-13\", \"2015-03-16\", \"2015-03-16\", \"2015-03-16\", \"2015-03-16\", \"2015-03-16\", \"2015-03-16\", \"2015-03-17\", \"2015-03-17\", \"2015-03-17\", \"2015-03-17\", \"2015-03-17\", \"2015-03-17\", \"2015-03-20\", \"2015-03-20\", \"2015-03-20\", \"2015-03-20\", \"2015-03-20\", \"2015-03-20\", \"2015-03-26\", \"2015-03-26\", \"2015-03-26\", \"2015-03-26\", \"2015-03-26\", \"2015-03-26\", \"2015-03-30\", \"2015-03-30\", \"2015-03-30\", \"2015-03-30\", \"2015-03-30\", \"2015-03-30\", \"2015-04-02\", \"2015-04-02\", \"2015-04-02\", \"2015-04-02\", \"2015-04-02\", \"2015-04-02\", \"2015-04-06\", \"2015-04-06\", \"2015-04-06\", \"2015-04-06\", \"2015-04-06\", \"2015-04-06\", \"2015-04-08\", \"2015-04-08\", \"2015-04-08\", \"2015-04-08\", \"2015-04-08\", \"2015-04-08\", \"2015-04-09\", \"2015-04-09\", \"2015-04-09\", \"2015-04-09\", \"2015-04-09\", \"2015-04-09\", \"2015-04-10\", \"2015-04-10\", \"2015-04-10\", \"2015-04-10\", \"2015-04-10\", \"2015-04-10\", \"2015-04-13\", \"2015-04-13\", \"2015-04-13\", \"2015-04-13\", \"2015-04-13\", \"2015-04-13\", \"2015-04-16\", \"2015-04-16\", \"2015-04-16\", \"2015-04-16\", \"2015-04-16\", \"2015-04-16\", \"2015-04-22\", \"2015-04-22\", \"2015-04-22\", \"2015-04-22\", \"2015-04-22\", \"2015-04-22\", \"2015-04-28\", \"2015-04-28\", \"2015-04-28\", \"2015-04-28\", \"2015-04-28\", \"2015-04-28\", \"2015-04-29\", \"2015-04-29\", \"2015-04-29\", \"2015-04-29\", \"2015-04-29\", \"2015-04-29\", \"2015-05-01\", \"2015-05-01\", \"2015-05-01\", \"2015-05-01\", \"2015-05-01\", \"2015-05-01\", \"2015-05-04\", \"2015-05-04\", \"2015-05-04\", \"2015-05-04\", \"2015-05-04\", \"2015-05-04\", \"2015-05-07\", \"2015-05-07\", \"2015-05-07\", \"2015-05-07\", \"2015-05-07\", \"2015-05-07\", \"2015-05-08\", \"2015-05-08\", \"2015-05-08\", \"2015-05-08\", \"2015-05-08\", \"2015-05-08\", \"2015-05-11\", \"2015-05-11\", \"2015-05-11\", \"2015-05-11\", \"2015-05-11\", \"2015-05-11\", \"2015-05-13\", \"2015-05-13\", \"2015-05-13\", \"2015-05-13\", \"2015-05-13\", \"2015-05-13\", \"2015-05-18\", \"2015-05-18\", \"2015-05-18\", \"2015-05-18\", \"2015-05-18\", \"2015-05-18\", \"2015-05-19\", \"2015-05-19\", \"2015-05-19\", \"2015-05-19\", \"2015-05-19\", \"2015-05-19\", \"2015-05-21\", \"2015-05-21\", \"2015-05-21\", \"2015-05-21\", \"2015-05-21\", \"2015-05-21\", \"2015-05-22\", \"2015-05-22\", \"2015-05-22\", \"2015-05-22\", \"2015-05-22\", \"2015-05-22\", \"2015-05-27\", \"2015-05-27\", \"2015-05-27\", \"2015-05-27\", \"2015-05-27\", \"2015-05-27\", \"2015-06-02\", \"2015-06-02\", \"2015-06-02\", \"2015-06-02\", \"2015-06-02\", \"2015-06-02\", \"2015-06-03\", \"2015-06-03\", \"2015-06-03\", \"2015-06-03\", \"2015-06-03\", \"2015-06-03\", \"2015-06-05\", \"2015-06-05\", \"2015-06-05\", \"2015-06-05\", \"2015-06-05\", \"2015-06-05\", \"2015-06-09\", \"2015-06-09\", \"2015-06-09\", \"2015-06-09\", \"2015-06-09\", \"2015-06-09\", \"2015-06-10\", \"2015-06-10\", \"2015-06-10\", \"2015-06-10\", \"2015-06-10\", \"2015-06-10\", \"2015-06-12\", \"2015-06-12\", \"2015-06-12\", \"2015-06-12\", \"2015-06-12\", \"2015-06-12\", \"2015-06-15\", \"2015-06-15\", \"2015-06-15\", \"2015-06-15\", \"2015-06-15\", \"2015-06-15\", \"2015-06-16\", \"2015-06-16\", \"2015-06-16\", \"2015-06-16\", \"2015-06-16\", \"2015-06-16\", \"2015-06-18\", \"2015-06-18\", \"2015-06-18\", \"2015-06-18\", \"2015-06-18\", \"2015-06-18\", \"2015-06-22\", \"2015-06-22\", \"2015-06-22\", \"2015-06-22\", \"2015-06-22\", \"2015-06-22\", \"2015-06-23\", \"2015-06-23\", \"2015-06-23\", \"2015-06-23\", \"2015-06-23\", \"2015-06-23\", \"2015-07-06\", \"2015-07-06\", \"2015-07-06\", \"2015-07-06\", \"2015-07-06\", \"2015-07-06\", \"2015-07-13\", \"2015-07-13\", \"2015-07-13\", \"2015-07-13\", \"2015-07-13\", \"2015-07-13\", \"2015-07-14\", \"2015-07-14\", \"2015-07-14\", \"2015-07-14\", \"2015-07-14\", \"2015-07-14\", \"2015-07-15\", \"2015-07-15\", \"2015-07-15\", \"2015-07-15\", \"2015-07-15\", \"2015-07-15\", \"2015-07-16\", \"2015-07-16\", \"2015-07-16\", \"2015-07-16\", \"2015-07-16\", \"2015-07-16\", \"2015-07-17\", \"2015-07-17\", \"2015-07-17\", \"2015-07-17\", \"2015-07-17\", \"2015-07-17\", \"2015-07-22\", \"2015-07-22\", \"2015-07-22\", \"2015-07-22\", \"2015-07-22\", \"2015-07-22\", \"2015-07-27\", \"2015-07-27\", \"2015-07-27\", \"2015-07-27\", \"2015-07-27\", \"2015-07-27\", \"2015-07-28\", \"2015-07-28\", \"2015-07-28\", \"2015-07-28\", \"2015-07-28\", \"2015-07-28\", \"2015-07-29\", \"2015-07-29\", \"2015-07-29\", \"2015-07-29\", \"2015-07-29\", \"2015-07-29\", \"2015-08-04\", \"2015-08-04\", \"2015-08-04\", \"2015-08-04\", \"2015-08-04\", \"2015-08-04\", \"2015-08-10\", \"2015-08-10\", \"2015-08-10\", \"2015-08-10\", \"2015-08-10\", \"2015-08-10\", \"2015-08-13\", \"2015-08-13\", \"2015-08-13\", \"2015-08-13\", \"2015-08-13\", \"2015-08-13\", \"2015-08-14\", \"2015-08-14\", \"2015-08-14\", \"2015-08-14\", \"2015-08-14\", \"2015-08-14\", \"2015-08-17\", \"2015-08-17\", \"2015-08-17\", \"2015-08-17\", \"2015-08-17\", \"2015-08-17\", \"2015-08-24\", \"2015-08-24\", \"2015-08-24\", \"2015-08-24\", \"2015-08-24\", \"2015-08-24\", \"2015-08-26\", \"2015-08-26\", \"2015-08-26\", \"2015-08-26\", \"2015-08-26\", \"2015-08-26\", \"2015-08-27\", \"2015-08-27\", \"2015-08-27\", \"2015-08-27\", \"2015-08-27\", \"2015-08-27\", \"2015-08-31\", \"2015-08-31\", \"2015-08-31\", \"2015-08-31\", \"2015-08-31\", \"2015-08-31\", \"2015-09-02\", \"2015-09-02\", \"2015-09-02\", \"2015-09-02\", \"2015-09-02\", \"2015-09-02\", \"2015-09-08\", \"2015-09-08\", \"2015-09-08\", \"2015-09-08\", \"2015-09-08\", \"2015-09-08\", \"2015-09-10\", \"2015-09-10\", \"2015-09-10\", \"2015-09-10\", \"2015-09-10\", \"2015-09-10\", \"2015-09-11\", \"2015-09-11\", \"2015-09-11\", \"2015-09-11\", \"2015-09-11\", \"2015-09-11\", \"2015-09-15\", \"2015-09-15\", \"2015-09-15\", \"2015-09-15\", \"2015-09-15\", \"2015-09-15\", \"2015-09-21\", \"2015-09-21\", \"2015-09-21\", \"2015-09-21\", \"2015-09-21\", \"2015-09-21\", \"2015-09-22\", \"2015-09-22\", \"2015-09-22\", \"2015-09-22\", \"2015-09-22\", \"2015-09-22\", \"2015-09-23\", \"2015-09-23\", \"2015-09-23\", \"2015-09-23\", \"2015-09-23\", \"2015-09-23\", \"2015-09-24\", \"2015-09-24\", \"2015-09-24\", \"2015-09-24\", \"2015-09-24\", \"2015-09-24\", \"2015-09-25\", \"2015-09-25\", \"2015-09-25\", \"2015-09-25\", \"2015-09-25\", \"2015-09-25\", \"2015-09-30\", \"2015-09-30\", \"2015-09-30\", \"2015-09-30\", \"2015-09-30\", \"2015-09-30\", \"2015-10-01\", \"2015-10-01\", \"2015-10-01\", \"2015-10-01\", \"2015-10-01\", \"2015-10-01\", \"2015-10-02\", \"2015-10-02\", \"2015-10-02\", \"2015-10-02\", \"2015-10-02\", \"2015-10-02\", \"2015-10-05\", \"2015-10-05\", \"2015-10-05\", \"2015-10-05\", \"2015-10-05\", \"2015-10-05\", \"2015-10-06\", \"2015-10-06\", \"2015-10-06\", \"2015-10-06\", \"2015-10-06\", \"2015-10-06\", \"2015-10-08\", \"2015-10-08\", \"2015-10-08\", \"2015-10-08\", \"2015-10-08\", \"2015-10-08\", \"2015-10-13\", \"2015-10-13\", \"2015-10-13\", \"2015-10-13\", \"2015-10-13\", \"2015-10-13\", \"2015-10-15\", \"2015-10-15\", \"2015-10-15\", \"2015-10-15\", \"2015-10-15\", \"2015-10-15\", \"2015-10-19\", \"2015-10-19\", \"2015-10-19\", \"2015-10-19\", \"2015-10-19\", \"2015-10-19\", \"2015-10-20\", \"2015-10-20\", \"2015-10-20\", \"2015-10-20\", \"2015-10-20\", \"2015-10-20\", \"2015-10-22\", \"2015-10-22\", \"2015-10-22\", \"2015-10-22\", \"2015-10-22\", \"2015-10-22\", \"2015-10-23\", \"2015-10-23\", \"2015-10-23\", \"2015-10-23\", \"2015-10-23\", \"2015-10-23\", \"2015-10-28\", \"2015-10-28\", \"2015-10-28\", \"2015-10-28\", \"2015-10-28\", \"2015-10-28\", \"2015-11-02\", \"2015-11-02\", \"2015-11-02\", \"2015-11-02\", \"2015-11-02\", \"2015-11-02\", \"2015-11-03\", \"2015-11-03\", \"2015-11-03\", \"2015-11-03\", \"2015-11-03\", \"2015-11-03\", \"2015-11-05\", \"2015-11-05\", \"2015-11-05\", \"2015-11-05\", \"2015-11-05\", \"2015-11-05\", \"2015-11-06\", \"2015-11-06\", \"2015-11-06\", \"2015-11-06\", \"2015-11-06\", \"2015-11-06\", \"2015-11-10\", \"2015-11-10\", \"2015-11-10\", \"2015-11-10\", \"2015-11-10\", \"2015-11-10\", \"2015-11-13\", \"2015-11-13\", \"2015-11-13\", \"2015-11-13\", \"2015-11-13\", \"2015-11-13\", \"2015-11-16\", \"2015-11-16\", \"2015-11-16\", \"2015-11-16\", \"2015-11-16\", \"2015-11-16\", \"2015-11-18\", \"2015-11-18\", \"2015-11-18\", \"2015-11-18\", \"2015-11-18\", \"2015-11-18\", \"2015-11-24\", \"2015-11-24\", \"2015-11-24\", \"2015-11-24\", \"2015-11-24\", \"2015-11-24\", \"2015-11-27\", \"2015-11-27\", \"2015-11-27\", \"2015-11-27\", \"2015-11-27\", \"2015-11-27\", \"2015-12-01\", \"2015-12-01\", \"2015-12-01\", \"2015-12-01\", \"2015-12-01\", \"2015-12-01\", \"2015-12-04\", \"2015-12-04\", \"2015-12-04\", \"2015-12-04\", \"2015-12-04\", \"2015-12-04\", \"2015-12-10\", \"2015-12-10\", \"2015-12-10\", \"2015-12-10\", \"2015-12-10\", \"2015-12-10\", \"2015-12-14\", \"2015-12-14\", \"2015-12-14\", \"2015-12-14\", \"2015-12-14\", \"2015-12-14\", \"2015-12-15\", \"2015-12-15\", \"2015-12-15\", \"2015-12-15\", \"2015-12-15\", \"2015-12-15\", \"2015-12-16\", \"2015-12-16\", \"2015-12-16\", \"2015-12-16\", \"2015-12-16\", \"2015-12-16\", \"2015-12-22\", \"2015-12-22\", \"2015-12-22\", \"2015-12-22\", \"2015-12-22\", \"2015-12-22\", \"2015-12-23\", \"2015-12-23\", \"2015-12-23\", \"2015-12-23\", \"2015-12-23\", \"2015-12-23\", \"2015-12-29\", \"2015-12-29\", \"2015-12-29\", \"2015-12-29\", \"2015-12-29\", \"2015-12-29\"], \"showlegend\": false, \"type\": \"box\", \"boxpoints\": false, \"line\": {\"color\": \"#3D9970\"}, \"y\": [17.1, 17.16, 17.29, 17.29, 17.29, 17.34, 15.77, 16.0, 16.04, 16.04, 16.04, 16.22, 14.97, 15.16, 15.38, 15.38, 15.38, 15.4, 15.15, 15.28, 15.41, 15.41, 15.41, 15.57, 15.43, 15.55, 16.09, 16.09, 16.09, 16.19, 15.7, 15.72, 15.85, 15.85, 15.85, 15.93, 15.48, 15.55, 15.63, 15.63, 15.63, 15.79, 15.2, 15.31, 15.43, 15.43, 15.43, 15.49, 15.12, 15.27, 15.46, 15.46, 15.46, 15.49, 15.61, 15.62, 15.89, 15.89, 15.89, 15.93, 16.22, 16.3, 16.49, 16.49, 16.49, 16.75, 16.21, 16.33, 16.36, 16.36, 16.36, 16.45, 16.37, 16.41, 16.67, 16.67, 16.67, 16.73, 16.37, 16.52, 16.63, 16.63, 16.63, 16.68, 16.01, 16.14, 16.38, 16.38, 16.38, 16.43, 16.25, 16.27, 16.38, 16.38, 16.38, 16.55, 16.32, 16.37, 16.49, 16.49, 16.49, 16.5, 15.62, 15.78, 15.81, 15.81, 15.81, 15.88, 15.72, 15.79, 16.01, 16.01, 16.01, 16.03, 15.96, 16.03, 16.04, 16.04, 16.04, 16.15, 15.74, 15.92, 16.0, 16.0, 16.0, 16.03, 15.87, 15.92, 16.11, 16.11, 16.11, 16.16, 15.9, 16.05, 16.09, 16.09, 16.09, 16.21, 15.94, 16.08, 16.09, 16.09, 16.09, 16.15, 15.85, 16.11, 16.13, 16.13, 16.13, 16.22, 15.96, 16.07, 16.09, 16.09, 16.09, 16.12, 15.64, 15.7, 15.84, 15.84, 15.84, 15.93, 15.26, 15.38, 15.42, 15.42, 15.42, 15.54, 15.4, 15.42, 15.52, 15.52, 15.52, 15.61, 15.43, 15.43, 15.54, 15.54, 15.54, 15.62, 15.34, 15.39, 15.51, 15.51, 15.51, 15.6, 15.5, 15.51, 15.61, 15.61, 15.61, 15.74, 15.53, 15.63, 15.71, 15.71, 15.71, 15.76, 15.6, 15.69, 15.72, 15.72, 15.72, 15.79, 15.74, 15.78, 15.8, 15.8, 15.8, 15.86, 15.58, 15.64, 15.79, 15.79, 15.79, 15.94, 15.49, 15.55, 15.74, 15.74, 15.74, 15.83, 15.5, 15.58, 15.65, 15.65, 15.65, 15.71, 15.57, 15.6, 15.98, 15.98, 15.98, 16.04, 15.92, 16.0, 16.11, 16.11, 16.11, 16.15, 16.12, 16.14, 16.44, 16.44, 16.44, 16.45, 16.09, 16.23, 16.24, 16.24, 16.24, 16.33, 16.22, 16.32, 16.45, 16.45, 16.45, 16.46, 16.43, 16.45, 16.49, 16.49, 16.49, 16.59, 16.36, 16.44, 16.47, 16.47, 16.47, 16.52, 16.31, 16.31, 16.51, 16.51, 16.51, 16.54, 16.58, 16.59, 16.77, 16.77, 16.77, 16.78, 16.56, 16.71, 16.73, 16.73, 16.73, 16.75, 16.7, 16.72, 16.75, 16.75, 16.75, 16.8, 16.54, 16.56, 16.74, 16.74, 16.74, 16.75, 16.5, 16.52, 16.72, 16.72, 16.72, 16.76, 16.74, 16.79, 16.93, 16.93, 16.93, 17.02, 16.96, 17.04, 17.19, 17.19, 17.19, 17.35, 17.0, 17.05, 17.31, 17.31, 17.31, 17.35, 17.36, 17.39, 17.59, 17.59, 17.59, 17.62, 17.36, 17.45, 17.49, 17.49, 17.49, 17.58, 17.25, 17.33, 17.47, 17.47, 17.47, 17.5, 17.37, 17.46, 17.55, 17.55, 17.55, 17.56, 17.22, 17.35, 17.38, 17.38, 17.38, 17.4, 17.35, 17.36, 17.47, 17.47, 17.47, 17.53, 17.56, 17.56, 17.67, 17.67, 17.67, 17.72, 16.71, 16.78, 16.94, 16.94, 16.94, 17.01, 16.9, 16.97, 17.02, 17.02, 17.02, 17.05, 16.86, 16.93, 17.13, 17.13, 17.13, 17.15, 17.49, 17.53, 17.68, 17.68, 17.68, 17.85, 17.86, 17.91, 17.95, 17.95, 17.95, 18.07, 17.89, 17.96, 18.1, 18.1, 18.1, 18.16, 18.03, 18.03, 18.45, 18.45, 18.45, 18.48, 17.5, 17.66, 17.67, 17.67, 17.67, 17.78, 17.6, 17.79, 17.88, 17.88, 17.88, 17.89, 17.92, 17.95, 18.16, 18.16, 18.16, 18.2, 17.71, 17.79, 17.8, 17.8, 17.8, 17.93, 17.86, 17.87, 18.04, 18.04, 18.04, 18.05, 17.44, 17.56, 17.62, 17.62, 17.62, 17.69, 17.54, 17.57, 17.7, 17.7, 17.7, 17.7, 17.56, 17.61, 17.77, 17.77, 17.77, 17.81, 14.6, 15.02, 15.29, 15.29, 15.29, 15.98, 15.34, 15.81, 16.06, 16.06, 16.06, 16.06, 16.09, 16.38, 16.44, 16.44, 16.44, 16.45, 16.18, 16.33, 16.34, 16.34, 16.34, 16.38, 15.57, 15.82, 15.85, 15.85, 15.85, 15.86, 15.9, 15.96, 16.16, 16.16, 16.16, 16.16, 15.81, 15.87, 16.04, 16.04, 16.04, 16.11, 15.9, 15.99, 16.04, 16.04, 16.04, 16.06, 16.01, 16.04, 16.31, 16.31, 16.31, 16.39, 15.57, 15.67, 15.7, 15.7, 15.7, 15.75, 15.45, 15.49, 15.57, 15.57, 15.57, 15.58, 15.58, 15.6, 15.72, 15.72, 15.72, 15.85, 15.4, 15.54, 15.55, 15.55, 15.55, 15.62, 15.81, 15.88, 15.89, 15.89, 15.89, 16.02, 15.32, 15.55, 15.58, 15.58, 15.58, 15.6, 15.36, 15.52, 15.55, 15.55, 15.55, 15.64, 14.63, 15.08, 15.38, 15.38, 15.38, 15.38, 15.44, 15.45, 15.69, 15.69, 15.69, 15.79, 15.57, 15.68, 15.69, 15.69, 15.69, 15.82, 15.51, 15.72, 15.75, 15.75, 15.75, 15.78, 15.4, 15.45, 15.52, 15.52, 15.52, 15.59, 15.72, 15.81, 16.19, 16.19, 16.19, 16.28, 15.98, 16.0, 16.14, 16.14, 16.14, 16.21, 16.1, 16.16, 16.2, 16.2, 16.2, 16.29, 16.0, 16.0, 16.16, 16.16, 16.16, 16.2, 16.25, 16.29, 16.52, 16.52, 16.52, 16.55, 16.44, 16.45, 17.28, 17.28, 17.28, 17.31, 16.87, 16.9, 17.06, 17.06, 17.06, 17.14, 16.99, 17.01, 17.18, 17.18, 17.18, 17.26, 17.03, 17.03, 17.31, 17.31, 17.31, 17.37, 17.76, 17.84, 17.95, 17.95, 17.95, 18.09, 17.56, 17.63, 17.85, 17.85, 17.85, 17.94, 17.09, 17.13, 17.2, 17.2, 17.2, 17.31, 17.01, 17.13, 17.43, 17.43, 17.43, 17.46, 17.43, 17.43, 17.84, 17.84, 17.84, 17.87, 17.25, 17.26, 17.47, 17.47, 17.47, 17.57, 17.33, 17.46, 17.48, 17.48, 17.48, 17.5, 17.48, 17.52, 17.81, 17.81, 17.81, 17.81, 17.38, 17.44, 17.8, 17.8, 17.8, 17.83, 16.96, 17.15, 17.2, 17.2, 17.2, 17.41, 16.5, 16.76, 16.8, 16.8, 16.8, 16.89, 16.99, 17.02, 17.42, 17.42, 17.42, 17.49, 17.23, 17.65, 17.75, 17.75, 17.75, 17.78, 16.85, 17.05, 17.08, 17.08, 17.08, 17.11, 17.1, 17.16, 17.34, 17.34, 17.34, 17.34, 17.16, 17.25, 17.28, 17.28, 17.28, 17.35], \"whiskerwidth\": 0, \"name\": \"Increasing\"}, {\"fillcolor\": \"#FF4136\", \"x\": [\"2015-01-02\", \"2015-01-02\", \"2015-01-02\", \"2015-01-02\", \"2015-01-02\", \"2015-01-02\", \"2015-01-05\", \"2015-01-05\", \"2015-01-05\", \"2015-01-05\", \"2015-01-05\", \"2015-01-05\", \"2015-01-06\", \"2015-01-06\", \"2015-01-06\", \"2015-01-06\", \"2015-01-06\", \"2015-01-06\", \"2015-01-07\", \"2015-01-07\", \"2015-01-07\", \"2015-01-07\", \"2015-01-07\", \"2015-01-07\", \"2015-01-09\", \"2015-01-09\", \"2015-01-09\", \"2015-01-09\", \"2015-01-09\", \"2015-01-09\", \"2015-01-12\", \"2015-01-12\", \"2015-01-12\", \"2015-01-12\", \"2015-01-12\", \"2015-01-12\", \"2015-01-13\", \"2015-01-13\", \"2015-01-13\", \"2015-01-13\", \"2015-01-13\", \"2015-01-13\", \"2015-01-15\", \"2015-01-15\", \"2015-01-15\", \"2015-01-15\", \"2015-01-15\", \"2015-01-15\", \"2015-01-20\", \"2015-01-20\", \"2015-01-20\", \"2015-01-20\", \"2015-01-20\", \"2015-01-20\", \"2015-01-23\", \"2015-01-23\", \"2015-01-23\", \"2015-01-23\", \"2015-01-23\", \"2015-01-23\", \"2015-01-28\", \"2015-01-28\", \"2015-01-28\", \"2015-01-28\", \"2015-01-28\", \"2015-01-28\", \"2015-01-30\", \"2015-01-30\", \"2015-01-30\", \"2015-01-30\", \"2015-01-30\", \"2015-01-30\", \"2015-02-04\", \"2015-02-04\", \"2015-02-04\", \"2015-02-04\", \"2015-02-04\", \"2015-02-04\", \"2015-02-05\", \"2015-02-05\", \"2015-02-05\", \"2015-02-05\", \"2015-02-05\", \"2015-02-05\", \"2015-02-09\", \"2015-02-09\", \"2015-02-09\", \"2015-02-09\", \"2015-02-09\", \"2015-02-09\", \"2015-02-10\", \"2015-02-10\", \"2015-02-10\", \"2015-02-10\", \"2015-02-10\", \"2015-02-10\", \"2015-02-13\", \"2015-02-13\", \"2015-02-13\", \"2015-02-13\", \"2015-02-13\", \"2015-02-13\", \"2015-02-18\", \"2015-02-18\", \"2015-02-18\", \"2015-02-18\", \"2015-02-18\", \"2015-02-18\", \"2015-02-19\", \"2015-02-19\", \"2015-02-19\", \"2015-02-19\", \"2015-02-19\", \"2015-02-19\", \"2015-02-23\", \"2015-02-23\", \"2015-02-23\", \"2015-02-23\", \"2015-02-23\", \"2015-02-23\", \"2015-02-26\", \"2015-02-26\", \"2015-02-26\", \"2015-02-26\", \"2015-02-26\", \"2015-02-26\", \"2015-03-04\", \"2015-03-04\", \"2015-03-04\", \"2015-03-04\", \"2015-03-04\", \"2015-03-04\", \"2015-03-06\", \"2015-03-06\", \"2015-03-06\", \"2015-03-06\", \"2015-03-06\", \"2015-03-06\", \"2015-03-09\", \"2015-03-09\", \"2015-03-09\", \"2015-03-09\", \"2015-03-09\", \"2015-03-09\", \"2015-03-10\", \"2015-03-10\", \"2015-03-10\", \"2015-03-10\", \"2015-03-10\", \"2015-03-10\", \"2015-03-18\", \"2015-03-18\", \"2015-03-18\", \"2015-03-18\", \"2015-03-18\", \"2015-03-18\", \"2015-03-19\", \"2015-03-19\", \"2015-03-19\", \"2015-03-19\", \"2015-03-19\", \"2015-03-19\", \"2015-03-23\", \"2015-03-23\", \"2015-03-23\", \"2015-03-23\", \"2015-03-23\", \"2015-03-23\", \"2015-03-24\", \"2015-03-24\", \"2015-03-24\", \"2015-03-24\", \"2015-03-24\", \"2015-03-24\", \"2015-03-25\", \"2015-03-25\", \"2015-03-25\", \"2015-03-25\", \"2015-03-25\", \"2015-03-25\", \"2015-03-27\", \"2015-03-27\", \"2015-03-27\", \"2015-03-27\", \"2015-03-27\", \"2015-03-27\", \"2015-03-31\", \"2015-03-31\", \"2015-03-31\", \"2015-03-31\", \"2015-03-31\", \"2015-03-31\", \"2015-04-01\", \"2015-04-01\", \"2015-04-01\", \"2015-04-01\", \"2015-04-01\", \"2015-04-01\", \"2015-04-07\", \"2015-04-07\", \"2015-04-07\", \"2015-04-07\", \"2015-04-07\", \"2015-04-07\", \"2015-04-14\", \"2015-04-14\", \"2015-04-14\", \"2015-04-14\", \"2015-04-14\", \"2015-04-14\", \"2015-04-15\", \"2015-04-15\", \"2015-04-15\", \"2015-04-15\", \"2015-04-15\", \"2015-04-15\", \"2015-04-17\", \"2015-04-17\", \"2015-04-17\", \"2015-04-17\", \"2015-04-17\", \"2015-04-17\", \"2015-04-20\", \"2015-04-20\", \"2015-04-20\", \"2015-04-20\", \"2015-04-20\", \"2015-04-20\", \"2015-04-21\", \"2015-04-21\", \"2015-04-21\", \"2015-04-21\", \"2015-04-21\", \"2015-04-21\", \"2015-04-23\", \"2015-04-23\", \"2015-04-23\", \"2015-04-23\", \"2015-04-23\", \"2015-04-23\", \"2015-04-24\", \"2015-04-24\", \"2015-04-24\", \"2015-04-24\", \"2015-04-24\", \"2015-04-24\", \"2015-04-27\", \"2015-04-27\", \"2015-04-27\", \"2015-04-27\", \"2015-04-27\", \"2015-04-27\", \"2015-04-30\", \"2015-04-30\", \"2015-04-30\", \"2015-04-30\", \"2015-04-30\", \"2015-04-30\", \"2015-05-05\", \"2015-05-05\", \"2015-05-05\", \"2015-05-05\", \"2015-05-05\", \"2015-05-05\", \"2015-05-06\", \"2015-05-06\", \"2015-05-06\", \"2015-05-06\", \"2015-05-06\", \"2015-05-06\", \"2015-05-12\", \"2015-05-12\", \"2015-05-12\", \"2015-05-12\", \"2015-05-12\", \"2015-05-12\", \"2015-05-14\", \"2015-05-14\", \"2015-05-14\", \"2015-05-14\", \"2015-05-14\", \"2015-05-14\", \"2015-05-15\", \"2015-05-15\", \"2015-05-15\", \"2015-05-15\", \"2015-05-15\", \"2015-05-15\", \"2015-05-20\", \"2015-05-20\", \"2015-05-20\", \"2015-05-20\", \"2015-05-20\", \"2015-05-20\", \"2015-05-26\", \"2015-05-26\", \"2015-05-26\", \"2015-05-26\", \"2015-05-26\", \"2015-05-26\", \"2015-05-28\", \"2015-05-28\", \"2015-05-28\", \"2015-05-28\", \"2015-05-28\", \"2015-05-28\", \"2015-05-29\", \"2015-05-29\", \"2015-05-29\", \"2015-05-29\", \"2015-05-29\", \"2015-05-29\", \"2015-06-01\", \"2015-06-01\", \"2015-06-01\", \"2015-06-01\", \"2015-06-01\", \"2015-06-01\", \"2015-06-04\", \"2015-06-04\", \"2015-06-04\", \"2015-06-04\", \"2015-06-04\", \"2015-06-04\", \"2015-06-08\", \"2015-06-08\", \"2015-06-08\", \"2015-06-08\", \"2015-06-08\", \"2015-06-08\", \"2015-06-11\", \"2015-06-11\", \"2015-06-11\", \"2015-06-11\", \"2015-06-11\", \"2015-06-11\", \"2015-06-17\", \"2015-06-17\", \"2015-06-17\", \"2015-06-17\", \"2015-06-17\", \"2015-06-17\", \"2015-06-19\", \"2015-06-19\", \"2015-06-19\", \"2015-06-19\", \"2015-06-19\", \"2015-06-19\", \"2015-06-24\", \"2015-06-24\", \"2015-06-24\", \"2015-06-24\", \"2015-06-24\", \"2015-06-24\", \"2015-06-25\", \"2015-06-25\", \"2015-06-25\", \"2015-06-25\", \"2015-06-25\", \"2015-06-25\", \"2015-06-26\", \"2015-06-26\", \"2015-06-26\", \"2015-06-26\", \"2015-06-26\", \"2015-06-26\", \"2015-06-29\", \"2015-06-29\", \"2015-06-29\", \"2015-06-29\", \"2015-06-29\", \"2015-06-29\", \"2015-06-30\", \"2015-06-30\", \"2015-06-30\", \"2015-06-30\", \"2015-06-30\", \"2015-06-30\", \"2015-07-01\", \"2015-07-01\", \"2015-07-01\", \"2015-07-01\", \"2015-07-01\", \"2015-07-01\", \"2015-07-02\", \"2015-07-02\", \"2015-07-02\", \"2015-07-02\", \"2015-07-02\", \"2015-07-02\", \"2015-07-07\", \"2015-07-07\", \"2015-07-07\", \"2015-07-07\", \"2015-07-07\", \"2015-07-07\", \"2015-07-08\", \"2015-07-08\", \"2015-07-08\", \"2015-07-08\", \"2015-07-08\", \"2015-07-08\", \"2015-07-09\", \"2015-07-09\", \"2015-07-09\", \"2015-07-09\", \"2015-07-09\", \"2015-07-09\", \"2015-07-10\", \"2015-07-10\", \"2015-07-10\", \"2015-07-10\", \"2015-07-10\", \"2015-07-10\", \"2015-07-20\", \"2015-07-20\", \"2015-07-20\", \"2015-07-20\", \"2015-07-20\", \"2015-07-20\", \"2015-07-21\", \"2015-07-21\", \"2015-07-21\", \"2015-07-21\", \"2015-07-21\", \"2015-07-21\", \"2015-07-23\", \"2015-07-23\", \"2015-07-23\", \"2015-07-23\", \"2015-07-23\", \"2015-07-23\", \"2015-07-24\", \"2015-07-24\", \"2015-07-24\", \"2015-07-24\", \"2015-07-24\", \"2015-07-24\", \"2015-07-30\", \"2015-07-30\", \"2015-07-30\", \"2015-07-30\", \"2015-07-30\", \"2015-07-30\", \"2015-07-31\", \"2015-07-31\", \"2015-07-31\", \"2015-07-31\", \"2015-07-31\", \"2015-07-31\", \"2015-08-03\", \"2015-08-03\", \"2015-08-03\", \"2015-08-03\", \"2015-08-03\", \"2015-08-03\", \"2015-08-05\", \"2015-08-05\", \"2015-08-05\", \"2015-08-05\", \"2015-08-05\", \"2015-08-05\", \"2015-08-06\", \"2015-08-06\", \"2015-08-06\", \"2015-08-06\", \"2015-08-06\", \"2015-08-06\", \"2015-08-07\", \"2015-08-07\", \"2015-08-07\", \"2015-08-07\", \"2015-08-07\", \"2015-08-07\", \"2015-08-11\", \"2015-08-11\", \"2015-08-11\", \"2015-08-11\", \"2015-08-11\", \"2015-08-11\", \"2015-08-12\", \"2015-08-12\", \"2015-08-12\", \"2015-08-12\", \"2015-08-12\", \"2015-08-12\", \"2015-08-18\", \"2015-08-18\", \"2015-08-18\", \"2015-08-18\", \"2015-08-18\", \"2015-08-18\", \"2015-08-19\", \"2015-08-19\", \"2015-08-19\", \"2015-08-19\", \"2015-08-19\", \"2015-08-19\", \"2015-08-20\", \"2015-08-20\", \"2015-08-20\", \"2015-08-20\", \"2015-08-20\", \"2015-08-20\", \"2015-08-21\", \"2015-08-21\", \"2015-08-21\", \"2015-08-21\", \"2015-08-21\", \"2015-08-21\", \"2015-08-25\", \"2015-08-25\", \"2015-08-25\", \"2015-08-25\", \"2015-08-25\", \"2015-08-25\", \"2015-08-28\", \"2015-08-28\", \"2015-08-28\", \"2015-08-28\", \"2015-08-28\", \"2015-08-28\", \"2015-09-01\", \"2015-09-01\", \"2015-09-01\", \"2015-09-01\", \"2015-09-01\", \"2015-09-01\", \"2015-09-03\", \"2015-09-03\", \"2015-09-03\", \"2015-09-03\", \"2015-09-03\", \"2015-09-03\", \"2015-09-04\", \"2015-09-04\", \"2015-09-04\", \"2015-09-04\", \"2015-09-04\", \"2015-09-04\", \"2015-09-09\", \"2015-09-09\", \"2015-09-09\", \"2015-09-09\", \"2015-09-09\", \"2015-09-09\", \"2015-09-14\", \"2015-09-14\", \"2015-09-14\", \"2015-09-14\", \"2015-09-14\", \"2015-09-14\", \"2015-09-16\", \"2015-09-16\", \"2015-09-16\", \"2015-09-16\", \"2015-09-16\", \"2015-09-16\", \"2015-09-17\", \"2015-09-17\", \"2015-09-17\", \"2015-09-17\", \"2015-09-17\", \"2015-09-17\", \"2015-09-18\", \"2015-09-18\", \"2015-09-18\", \"2015-09-18\", \"2015-09-18\", \"2015-09-18\", \"2015-09-28\", \"2015-09-28\", \"2015-09-28\", \"2015-09-28\", \"2015-09-28\", \"2015-09-28\", \"2015-09-29\", \"2015-09-29\", \"2015-09-29\", \"2015-09-29\", \"2015-09-29\", \"2015-09-29\", \"2015-10-07\", \"2015-10-07\", \"2015-10-07\", \"2015-10-07\", \"2015-10-07\", \"2015-10-07\", \"2015-10-09\", \"2015-10-09\", \"2015-10-09\", \"2015-10-09\", \"2015-10-09\", \"2015-10-09\", \"2015-10-12\", \"2015-10-12\", \"2015-10-12\", \"2015-10-12\", \"2015-10-12\", \"2015-10-12\", \"2015-10-14\", \"2015-10-14\", \"2015-10-14\", \"2015-10-14\", \"2015-10-14\", \"2015-10-14\", \"2015-10-16\", \"2015-10-16\", \"2015-10-16\", \"2015-10-16\", \"2015-10-16\", \"2015-10-16\", \"2015-10-21\", \"2015-10-21\", \"2015-10-21\", \"2015-10-21\", \"2015-10-21\", \"2015-10-21\", \"2015-10-26\", \"2015-10-26\", \"2015-10-26\", \"2015-10-26\", \"2015-10-26\", \"2015-10-26\", \"2015-10-27\", \"2015-10-27\", \"2015-10-27\", \"2015-10-27\", \"2015-10-27\", \"2015-10-27\", \"2015-10-29\", \"2015-10-29\", \"2015-10-29\", \"2015-10-29\", \"2015-10-29\", \"2015-10-29\", \"2015-10-30\", \"2015-10-30\", \"2015-10-30\", \"2015-10-30\", \"2015-10-30\", \"2015-10-30\", \"2015-11-04\", \"2015-11-04\", \"2015-11-04\", \"2015-11-04\", \"2015-11-04\", \"2015-11-04\", \"2015-11-09\", \"2015-11-09\", \"2015-11-09\", \"2015-11-09\", \"2015-11-09\", \"2015-11-09\", \"2015-11-11\", \"2015-11-11\", \"2015-11-11\", \"2015-11-11\", \"2015-11-11\", \"2015-11-11\", \"2015-11-12\", \"2015-11-12\", \"2015-11-12\", \"2015-11-12\", \"2015-11-12\", \"2015-11-12\", \"2015-11-17\", \"2015-11-17\", \"2015-11-17\", \"2015-11-17\", \"2015-11-17\", \"2015-11-17\", \"2015-11-19\", \"2015-11-19\", \"2015-11-19\", \"2015-11-19\", \"2015-11-19\", \"2015-11-19\", \"2015-11-20\", \"2015-11-20\", \"2015-11-20\", \"2015-11-20\", \"2015-11-20\", \"2015-11-20\", \"2015-11-23\", \"2015-11-23\", \"2015-11-23\", \"2015-11-23\", \"2015-11-23\", \"2015-11-23\", \"2015-11-25\", \"2015-11-25\", \"2015-11-25\", \"2015-11-25\", \"2015-11-25\", \"2015-11-25\", \"2015-11-30\", \"2015-11-30\", \"2015-11-30\", \"2015-11-30\", \"2015-11-30\", \"2015-11-30\", \"2015-12-02\", \"2015-12-02\", \"2015-12-02\", \"2015-12-02\", \"2015-12-02\", \"2015-12-02\", \"2015-12-03\", \"2015-12-03\", \"2015-12-03\", \"2015-12-03\", \"2015-12-03\", \"2015-12-03\", \"2015-12-07\", \"2015-12-07\", \"2015-12-07\", \"2015-12-07\", \"2015-12-07\", \"2015-12-07\", \"2015-12-08\", \"2015-12-08\", \"2015-12-08\", \"2015-12-08\", \"2015-12-08\", \"2015-12-08\", \"2015-12-09\", \"2015-12-09\", \"2015-12-09\", \"2015-12-09\", \"2015-12-09\", \"2015-12-09\", \"2015-12-11\", \"2015-12-11\", \"2015-12-11\", \"2015-12-11\", \"2015-12-11\", \"2015-12-11\", \"2015-12-17\", \"2015-12-17\", \"2015-12-17\", \"2015-12-17\", \"2015-12-17\", \"2015-12-17\", \"2015-12-18\", \"2015-12-18\", \"2015-12-18\", \"2015-12-18\", \"2015-12-18\", \"2015-12-18\", \"2015-12-21\", \"2015-12-21\", \"2015-12-21\", \"2015-12-21\", \"2015-12-21\", \"2015-12-21\", \"2015-12-24\", \"2015-12-24\", \"2015-12-24\", \"2015-12-24\", \"2015-12-24\", \"2015-12-24\", \"2015-12-28\", \"2015-12-28\", \"2015-12-28\", \"2015-12-28\", \"2015-12-28\", \"2015-12-28\", \"2015-12-30\", \"2015-12-30\", \"2015-12-30\", \"2015-12-30\", \"2015-12-30\", \"2015-12-30\", \"2015-12-31\", \"2015-12-31\", \"2015-12-31\", \"2015-12-31\", \"2015-12-31\", \"2015-12-31\"], \"showlegend\": false, \"type\": \"box\", \"boxpoints\": false, \"line\": {\"color\": \"#FF4136\"}, \"y\": [17.68, 17.99, 17.9, 17.9, 17.9, 18.03, 17.29, 17.78, 17.38, 17.38, 17.38, 17.81, 16.78, 17.42, 16.86, 16.86, 16.86, 17.44, 16.87, 17.14, 16.94, 16.94, 16.94, 17.18, 16.95, 17.38, 16.98, 16.98, 16.98, 17.38, 16.66, 17.02, 16.68, 16.68, 16.68, 17.03, 16.32, 16.82, 16.45, 16.45, 16.45, 16.89, 15.15, 15.59, 15.2, 15.2, 15.2, 15.76, 15.2, 15.59, 15.26, 15.26, 15.26, 15.63, 15.73, 16.04, 15.73, 15.73, 15.73, 16.19, 15.18, 15.72, 15.2, 15.2, 15.2, 15.73, 15.15, 15.23, 15.15, 15.15, 15.15, 15.47, 15.75, 15.79, 15.79, 15.79, 15.79, 16.0, 15.9, 15.98, 15.97, 15.97, 15.97, 16.09, 16.25, 16.35, 16.35, 16.35, 16.35, 16.5, 16.35, 16.56, 16.42, 16.42, 16.42, 16.62, 16.54, 16.73, 16.61, 16.61, 16.61, 16.79, 16.24, 16.55, 16.3, 16.3, 16.3, 16.56, 16.08, 16.21, 16.21, 16.21, 16.21, 16.38, 16.1, 16.32, 16.2, 16.2, 16.2, 16.32, 15.9, 16.42, 16.04, 16.04, 16.04, 16.44, 15.76, 15.96, 15.84, 15.84, 15.84, 15.98, 16.16, 16.41, 16.22, 16.22, 16.22, 16.62, 16.12, 16.31, 16.17, 16.17, 16.17, 16.33, 15.79, 16.04, 15.79, 15.79, 15.79, 16.13, 15.91, 16.01, 15.98, 15.98, 15.98, 16.1, 15.61, 15.96, 15.61, 15.61, 15.61, 15.97, 15.72, 15.82, 15.72, 15.72, 15.72, 15.88, 15.61, 15.73, 15.61, 15.61, 15.61, 15.8, 15.4, 15.63, 15.41, 15.41, 15.41, 15.65, 15.27, 15.48, 15.31, 15.31, 15.31, 15.49, 15.38, 15.5, 15.39, 15.39, 15.39, 15.52, 15.25, 15.42, 15.41, 15.41, 15.41, 15.46, 15.45, 15.53, 15.46, 15.46, 15.46, 15.65, 15.71, 15.88, 15.82, 15.82, 15.82, 15.95, 15.59, 15.7, 15.64, 15.64, 15.64, 15.85, 15.5, 15.71, 15.56, 15.56, 15.56, 15.75, 15.56, 15.62, 15.57, 15.57, 15.57, 15.69, 15.43, 15.6, 15.5, 15.5, 15.5, 15.64, 15.68, 15.72, 15.69, 15.69, 15.69, 15.8, 15.61, 15.71, 15.64, 15.64, 15.64, 15.75, 15.56, 15.63, 15.56, 15.56, 15.56, 15.76, 15.79, 16.0, 15.93, 15.93, 15.93, 16.05, 16.33, 16.42, 16.35, 16.35, 16.35, 16.61, 16.08, 16.36, 16.29, 16.29, 16.29, 16.49, 16.35, 16.46, 16.43, 16.43, 16.43, 16.48, 16.45, 16.53, 16.52, 16.52, 16.52, 16.59, 16.3, 16.52, 16.35, 16.35, 16.35, 16.52, 16.63, 16.78, 16.74, 16.74, 16.74, 16.85, 16.43, 16.73, 16.5, 16.5, 16.5, 16.73, 16.58, 16.72, 16.67, 16.67, 16.67, 16.73, 16.47, 16.66, 16.5, 16.5, 16.5, 16.67, 16.47, 16.58, 16.55, 16.55, 16.55, 16.64, 16.72, 16.87, 16.78, 16.78, 16.78, 16.98, 17.05, 17.27, 17.08, 17.08, 17.08, 17.33, 17.44, 17.62, 17.49, 17.49, 17.49, 17.68, 17.3, 17.59, 17.37, 17.37, 17.37, 17.6, 17.12, 17.28, 17.17, 17.17, 17.17, 17.39, 17.45, 17.53, 17.49, 17.49, 17.49, 17.69, 17.35, 17.57, 17.37, 17.37, 17.37, 17.62, 17.35, 17.48, 17.41, 17.41, 17.41, 17.52, 16.86, 17.13, 16.89, 16.89, 16.89, 17.25, 16.85, 17.08, 17.02, 17.02, 17.02, 17.13, 17.09, 17.25, 17.22, 17.22, 17.22, 17.31, 16.89, 17.16, 17.03, 17.03, 17.03, 17.21, 16.34, 16.9, 16.69, 16.69, 16.69, 16.93, 16.22, 16.42, 16.25, 16.25, 16.25, 16.5, 16.45, 16.53, 16.48, 16.48, 16.48, 16.72, 16.66, 16.8, 16.7, 16.7, 16.7, 16.84, 18.08, 18.15, 18.12, 18.12, 18.12, 18.23, 18.02, 18.11, 18.08, 18.08, 18.08, 18.17, 18.08, 18.39, 18.18, 18.18, 18.18, 18.43, 17.84, 18.2, 17.9, 17.9, 17.9, 18.23, 18.05, 18.2, 18.13, 18.13, 18.13, 18.29, 17.86, 18.03, 17.88, 17.88, 17.88, 18.06, 17.64, 17.91, 17.77, 17.77, 17.77, 17.96, 17.8, 17.93, 17.87, 17.87, 17.87, 18.04, 17.77, 17.91, 17.81, 17.81, 17.81, 17.98, 17.6, 17.92, 17.75, 17.75, 17.75, 18.07, 17.72, 17.85, 17.79, 17.79, 17.79, 17.97, 17.02, 17.62, 17.52, 17.52, 17.52, 17.64, 17.65, 17.72, 17.69, 17.69, 17.69, 17.9, 17.44, 17.55, 17.46, 17.46, 17.46, 17.69, 16.72, 17.19, 16.72, 16.72, 16.72, 17.2, 16.1, 16.2, 16.1, 16.1, 16.1, 16.66, 15.25, 16.2, 15.26, 15.26, 15.26, 16.2, 16.2, 16.4, 16.36, 16.36, 16.36, 16.44, 15.46, 15.95, 15.58, 15.58, 15.58, 16.05, 15.87, 15.97, 15.94, 15.94, 15.94, 16.19, 15.5, 15.79, 15.65, 15.65, 15.65, 15.86, 15.83, 16.37, 15.9, 15.9, 15.9, 16.46, 15.9, 15.97, 15.96, 15.96, 15.96, 16.07, 16.09, 16.35, 16.33, 16.33, 16.33, 16.39, 15.78, 16.29, 15.86, 15.86, 15.86, 16.48, 15.5, 15.68, 15.56, 15.56, 15.56, 15.71, 15.38, 15.79, 15.47, 15.47, 15.47, 15.82, 15.25, 15.5, 15.35, 15.35, 15.35, 15.53, 15.57, 15.78, 15.75, 15.75, 15.75, 15.93, 15.5, 15.75, 15.58, 15.58, 15.58, 15.82, 15.43, 15.6, 15.52, 15.52, 15.52, 15.62, 15.55, 15.77, 15.64, 15.64, 15.64, 15.92, 16.03, 16.28, 16.12, 16.12, 16.12, 16.29, 15.9, 16.26, 15.9, 15.9, 15.9, 16.29, 16.34, 16.52, 16.51, 16.51, 16.51, 16.55, 16.3, 16.4, 16.4, 16.4, 16.4, 16.47, 16.97, 17.16, 17.09, 17.09, 17.09, 17.44, 16.76, 17.18, 16.78, 16.78, 16.78, 17.18, 16.96, 17.3, 17.01, 17.01, 17.01, 17.31, 17.56, 18.03, 17.68, 17.68, 17.68, 18.08, 17.68, 17.99, 17.75, 17.75, 17.75, 17.99, 17.35, 17.58, 17.37, 17.37, 17.37, 17.63, 17.34, 17.5, 17.42, 17.42, 17.42, 17.6, 17.62, 17.78, 17.69, 17.69, 17.69, 17.85, 17.59, 17.81, 17.65, 17.65, 17.65, 17.83, 17.46, 17.62, 17.47, 17.47, 17.47, 17.73, 17.41, 17.51, 17.44, 17.44, 17.44, 17.57, 17.42, 17.48, 17.43, 17.43, 17.43, 17.58, 17.55, 17.88, 17.62, 17.62, 17.62, 17.89, 17.25, 17.68, 17.3, 17.3, 17.3, 17.76, 17.44, 17.79, 17.54, 17.54, 17.54, 17.8, 17.13, 17.39, 17.19, 17.19, 17.19, 17.46, 16.87, 17.11, 17.1, 17.1, 17.1, 17.38, 16.64, 16.97, 16.73, 16.73, 16.73, 17.06, 17.3, 17.8, 17.3, 17.3, 17.3, 17.83, 16.76, 17.19, 16.76, 16.76, 16.76, 17.26, 16.77, 16.98, 16.97, 16.97, 16.97, 17.03, 17.22, 17.32, 17.27, 17.27, 17.27, 17.38, 16.98, 17.22, 17.13, 17.13, 17.13, 17.23, 17.04, 17.2, 17.05, 17.05, 17.05, 17.24, 16.83, 17.01, 16.83, 16.83, 16.83, 17.07], \"whiskerwidth\": 0, \"name\": \"Decreasing\"}], {\"legend\": {\"bgcolor\": \"#FFFFFF\", \"font\": {\"color\": \"#666666\"}}, \"titlefont\": {\"color\": \"#151516\"}, \"paper_bgcolor\": \"#FFFFFF\", \"plot_bgcolor\": \"#E5E5E5\", \"yaxis1\": {\"titlefont\": {\"color\": \"#666666\"}, \"showgrid\": true, \"tickfont\": {\"color\": \"#666666\"}, \"zerolinecolor\": \"#F6F6F6\", \"gridcolor\": \"#F6F6F6\", \"title\": \"\"}, \"hovermode\": \"closest\", \"xaxis1\": {\"titlefont\": {\"color\": \"#666666\"}, \"showgrid\": true, \"tickfont\": {\"color\": \"#666666\"}, \"zerolinecolor\": \"#F6F6F6\", \"gridcolor\": \"#F6F6F6\", \"title\": \"\"}}, {\"linkText\": \"Export to plot.ly\", \"showLink\": true})});</script>"
      ],
      "text/plain": [
       "<IPython.core.display.HTML object>"
      ]
     },
     "metadata": {},
     "output_type": "display_data"
    }
   ],
   "source": [
    "BAC[['Open', 'High', 'Low', 'Close']].ix['2015-01-01':'2016-01-01'].iplot(kind='candle')"
   ]
  },
  {
   "cell_type": "markdown",
   "metadata": {},
   "source": [
    "** Use .ta_plot(study='sma') to create a Simple Moving Averages plot of Morgan Stanley for the year 2015.**"
   ]
  },
  {
   "cell_type": "code",
   "execution_count": 1,
   "metadata": {},
   "outputs": [
    {
     "ename": "NameError",
     "evalue": "name 'MS' is not defined",
     "output_type": "error",
     "traceback": [
      "\u001b[1;31m---------------------------------------------------------------------------\u001b[0m",
      "\u001b[1;31mNameError\u001b[0m                                 Traceback (most recent call last)",
      "\u001b[1;32m<ipython-input-1-44aa05b965cd>\u001b[0m in \u001b[0;36m<module>\u001b[1;34m()\u001b[0m\n\u001b[1;32m----> 1\u001b[1;33m \u001b[0mMS\u001b[0m\u001b[1;33m[\u001b[0m\u001b[1;34m'Close'\u001b[0m\u001b[1;33m]\u001b[0m\u001b[1;33m.\u001b[0m\u001b[0mix\u001b[0m\u001b[1;33m[\u001b[0m\u001b[1;34m'2015-01-01'\u001b[0m\u001b[1;33m:\u001b[0m\u001b[1;34m'2016-01-01'\u001b[0m\u001b[1;33m]\u001b[0m\u001b[1;33m.\u001b[0m\u001b[0mta_plot\u001b[0m\u001b[1;33m(\u001b[0m\u001b[0mstudy\u001b[0m\u001b[1;33m=\u001b[0m\u001b[1;34m'sma'\u001b[0m\u001b[1;33m,\u001b[0m\u001b[0mperiods\u001b[0m\u001b[1;33m=\u001b[0m\u001b[1;33m[\u001b[0m\u001b[1;36m13\u001b[0m\u001b[1;33m,\u001b[0m\u001b[1;36m21\u001b[0m\u001b[1;33m,\u001b[0m\u001b[1;36m55\u001b[0m\u001b[1;33m]\u001b[0m\u001b[1;33m,\u001b[0m\u001b[0mtitle\u001b[0m\u001b[1;33m=\u001b[0m\u001b[1;34m'Simple Moving Averages'\u001b[0m\u001b[1;33m)\u001b[0m\u001b[1;33m\u001b[0m\u001b[0m\n\u001b[0m",
      "\u001b[1;31mNameError\u001b[0m: name 'MS' is not defined"
     ]
    }
   ],
   "source": [
    "MS['Close'].ix['2015-01-01':'2016-01-01'].ta_plot(study='sma',periods=[13,21,55],title='Simple Moving Averages')"
   ]
  },
  {
   "cell_type": "markdown",
   "metadata": {},
   "source": [
    "**Use .ta_plot(study='boll') to create a Bollinger Band Plot for Bank of America for the year 2015.**"
   ]
  },
  {
   "cell_type": "code",
   "execution_count": 30,
   "metadata": {},
   "outputs": [
    {
     "data": {
      "text/html": [
       "<div id=\"036012f2-5759-4425-9182-43280195185d\" style=\"height: 525px; width: 100%;\" class=\"plotly-graph-div\"></div><script type=\"text/javascript\">require([\"plotly\"], function(Plotly) { window.PLOTLYENV=window.PLOTLYENV || {};window.PLOTLYENV.BASE_URL=\"https://plot.ly\";Plotly.newPlot(\"036012f2-5759-4425-9182-43280195185d\", [{\"mode\": \"lines\", \"type\": \"scatter\", \"line\": {\"width\": 1.3, \"dash\": \"solid\", \"color\": \"rgba(226, 74, 51, 1.0)\"}, \"y\": [17.9, 17.38, 16.86, 16.94, 17.29, 16.98, 16.68, 16.45, 16.04, 15.2, 15.38, 15.26, 15.41, 16.09, 15.73, 15.85, 15.63, 15.2, 15.43, 15.15, 15.46, 15.89, 15.79, 15.97, 16.49, 16.35, 16.42, 16.36, 16.67, 16.61, 16.63, 16.3, 16.21, 16.38, 16.2, 16.38, 16.49, 16.04, 15.81, 16.01, 16.04, 15.84, 16.0, 16.22, 16.17, 15.79, 16.11, 16.09, 16.09, 16.13, 16.09, 15.98, 15.61, 15.84, 15.72, 15.61, 15.41, 15.42, 15.31, 15.52, 15.39, 15.41, 15.54, 15.51, 15.46, 15.61, 15.71, 15.72, 15.8, 15.82, 15.64, 15.79, 15.56, 15.57, 15.5, 15.74, 15.69, 15.64, 15.56, 15.65, 15.98, 15.93, 16.11, 16.44, 16.35, 16.29, 16.24, 16.45, 16.49, 16.43, 16.47, 16.52, 16.35, 16.51, 16.77, 16.74, 16.73, 16.75, 16.5, 16.74, 16.67, 16.5, 16.55, 16.72, 16.93, 16.78, 17.19, 17.08, 17.31, 17.59, 17.49, 17.49, 17.47, 17.55, 17.37, 17.38, 17.17, 17.47, 17.67, 17.49, 17.37, 17.41, 16.89, 17.02, 17.22, 17.03, 16.94, 16.69, 16.25, 16.48, 16.7, 17.02, 17.13, 17.68, 17.95, 18.1, 18.12, 18.08, 18.45, 18.18, 17.9, 17.67, 17.88, 18.16, 18.13, 17.88, 17.77, 17.8, 17.87, 17.81, 17.75, 18.04, 17.79, 17.52, 17.62, 17.7, 17.77, 17.69, 17.46, 16.72, 16.1, 15.29, 15.26, 16.06, 16.44, 16.36, 16.34, 15.58, 15.85, 15.94, 15.65, 16.16, 15.9, 16.04, 16.04, 15.96, 16.31, 16.33, 15.86, 15.56, 15.7, 15.57, 15.72, 15.55, 15.89, 15.47, 15.35, 15.58, 15.55, 15.38, 15.69, 15.69, 15.75, 15.75, 15.58, 15.52, 15.52, 15.64, 16.19, 16.12, 16.14, 16.2, 15.9, 16.16, 16.52, 16.51, 16.4, 17.28, 17.09, 16.78, 17.06, 17.18, 17.01, 17.31, 17.95, 17.68, 17.85, 17.75, 17.37, 17.2, 17.43, 17.42, 17.84, 17.69, 17.65, 17.47, 17.47, 17.44, 17.48, 17.43, 17.81, 17.62, 17.3, 17.8, 17.54, 17.19, 17.1, 17.2, 16.73, 16.8, 17.42, 17.75, 17.3, 16.76, 16.97, 17.08, 17.34, 17.27, 17.13, 17.28, 17.05, 16.83], \"text\": \"\", \"x\": [\"2015-01-02\", \"2015-01-05\", \"2015-01-06\", \"2015-01-07\", \"2015-01-08\", \"2015-01-09\", \"2015-01-12\", \"2015-01-13\", \"2015-01-14\", \"2015-01-15\", \"2015-01-16\", \"2015-01-20\", \"2015-01-21\", \"2015-01-22\", \"2015-01-23\", \"2015-01-26\", \"2015-01-27\", \"2015-01-28\", \"2015-01-29\", \"2015-01-30\", \"2015-02-02\", \"2015-02-03\", \"2015-02-04\", \"2015-02-05\", \"2015-02-06\", \"2015-02-09\", \"2015-02-10\", \"2015-02-11\", \"2015-02-12\", \"2015-02-13\", \"2015-02-17\", \"2015-02-18\", \"2015-02-19\", \"2015-02-20\", \"2015-02-23\", \"2015-02-24\", \"2015-02-25\", \"2015-02-26\", \"2015-02-27\", \"2015-03-02\", \"2015-03-03\", \"2015-03-04\", \"2015-03-05\", \"2015-03-06\", \"2015-03-09\", \"2015-03-10\", \"2015-03-11\", \"2015-03-12\", \"2015-03-13\", \"2015-03-16\", \"2015-03-17\", \"2015-03-18\", \"2015-03-19\", \"2015-03-20\", \"2015-03-23\", \"2015-03-24\", \"2015-03-25\", \"2015-03-26\", \"2015-03-27\", \"2015-03-30\", \"2015-03-31\", \"2015-04-01\", \"2015-04-02\", \"2015-04-06\", \"2015-04-07\", \"2015-04-08\", \"2015-04-09\", \"2015-04-10\", \"2015-04-13\", \"2015-04-14\", \"2015-04-15\", \"2015-04-16\", \"2015-04-17\", \"2015-04-20\", \"2015-04-21\", \"2015-04-22\", \"2015-04-23\", \"2015-04-24\", \"2015-04-27\", \"2015-04-28\", \"2015-04-29\", \"2015-04-30\", \"2015-05-01\", \"2015-05-04\", \"2015-05-05\", \"2015-05-06\", \"2015-05-07\", \"2015-05-08\", \"2015-05-11\", \"2015-05-12\", \"2015-05-13\", \"2015-05-14\", \"2015-05-15\", \"2015-05-18\", \"2015-05-19\", \"2015-05-20\", \"2015-05-21\", \"2015-05-22\", \"2015-05-26\", \"2015-05-27\", \"2015-05-28\", \"2015-05-29\", \"2015-06-01\", \"2015-06-02\", \"2015-06-03\", \"2015-06-04\", \"2015-06-05\", \"2015-06-08\", \"2015-06-09\", \"2015-06-10\", \"2015-06-11\", \"2015-06-12\", \"2015-06-15\", \"2015-06-16\", \"2015-06-17\", \"2015-06-18\", \"2015-06-19\", \"2015-06-22\", \"2015-06-23\", \"2015-06-24\", \"2015-06-25\", \"2015-06-26\", \"2015-06-29\", \"2015-06-30\", \"2015-07-01\", \"2015-07-02\", \"2015-07-06\", \"2015-07-07\", \"2015-07-08\", \"2015-07-09\", \"2015-07-10\", \"2015-07-13\", \"2015-07-14\", \"2015-07-15\", \"2015-07-16\", \"2015-07-17\", \"2015-07-20\", \"2015-07-21\", \"2015-07-22\", \"2015-07-23\", \"2015-07-24\", \"2015-07-27\", \"2015-07-28\", \"2015-07-29\", \"2015-07-30\", \"2015-07-31\", \"2015-08-03\", \"2015-08-04\", \"2015-08-05\", \"2015-08-06\", \"2015-08-07\", \"2015-08-10\", \"2015-08-11\", \"2015-08-12\", \"2015-08-13\", \"2015-08-14\", \"2015-08-17\", \"2015-08-18\", \"2015-08-19\", \"2015-08-20\", \"2015-08-21\", \"2015-08-24\", \"2015-08-25\", \"2015-08-26\", \"2015-08-27\", \"2015-08-28\", \"2015-08-31\", \"2015-09-01\", \"2015-09-02\", \"2015-09-03\", \"2015-09-04\", \"2015-09-08\", \"2015-09-09\", \"2015-09-10\", \"2015-09-11\", \"2015-09-14\", \"2015-09-15\", \"2015-09-16\", \"2015-09-17\", \"2015-09-18\", \"2015-09-21\", \"2015-09-22\", \"2015-09-23\", \"2015-09-24\", \"2015-09-25\", \"2015-09-28\", \"2015-09-29\", \"2015-09-30\", \"2015-10-01\", \"2015-10-02\", \"2015-10-05\", \"2015-10-06\", \"2015-10-07\", \"2015-10-08\", \"2015-10-09\", \"2015-10-12\", \"2015-10-13\", \"2015-10-14\", \"2015-10-15\", \"2015-10-16\", \"2015-10-19\", \"2015-10-20\", \"2015-10-21\", \"2015-10-22\", \"2015-10-23\", \"2015-10-26\", \"2015-10-27\", \"2015-10-28\", \"2015-10-29\", \"2015-10-30\", \"2015-11-02\", \"2015-11-03\", \"2015-11-04\", \"2015-11-05\", \"2015-11-06\", \"2015-11-09\", \"2015-11-10\", \"2015-11-11\", \"2015-11-12\", \"2015-11-13\", \"2015-11-16\", \"2015-11-17\", \"2015-11-18\", \"2015-11-19\", \"2015-11-20\", \"2015-11-23\", \"2015-11-24\", \"2015-11-25\", \"2015-11-27\", \"2015-11-30\", \"2015-12-01\", \"2015-12-02\", \"2015-12-03\", \"2015-12-04\", \"2015-12-07\", \"2015-12-08\", \"2015-12-09\", \"2015-12-10\", \"2015-12-11\", \"2015-12-14\", \"2015-12-15\", \"2015-12-16\", \"2015-12-17\", \"2015-12-18\", \"2015-12-21\", \"2015-12-22\", \"2015-12-23\", \"2015-12-24\", \"2015-12-28\", \"2015-12-29\", \"2015-12-30\", \"2015-12-31\"], \"name\": \"Close\"}, {\"mode\": \"lines\", \"type\": \"scatter\", \"line\": {\"width\": 1.3, \"dash\": \"solid\", \"color\": \"rgba(55, 128, 191, 1.0)\"}, \"y\": [\"\", \"\", \"\", \"\", \"\", \"\", \"\", \"\", \"\", \"\", \"\", \"\", \"\", 16.418571428571425, 16.263571428571424, 16.15428571428571, 16.066428571428567, 15.942142857142853, 15.80928571428571, 15.678571428571427, 15.591428571428569, 15.55142857142857, 15.533571428571426, 15.588571428571427, 15.667857142857143, 15.745714285714286, 15.817857142857145, 15.837142857142856, 15.904285714285715, 15.958571428571428, 16.029999999999998, 16.10857142857143, 16.164285714285715, 16.252142857142857, 16.305, 16.34, 16.39, 16.395, 16.34642857142857, 16.322142857142858, 16.294999999999998, 16.257857142857144, 16.21, 16.182142857142857, 16.149285714285718, 16.112857142857145, 16.105714285714285, 16.085, 16.077142857142857, 16.059285714285714, 16.030714285714286, 16.02642857142857, 16.01214285714286, 16.000000000000004, 15.97714285714286, 15.960714285714287, 15.918571428571429, 15.861428571428572, 15.799999999999999, 15.780714285714286, 15.729285714285712, 15.680714285714284, 15.641428571428568, 15.597142857142854, 15.552142857142854, 15.525714285714285, 15.532857142857141, 15.524285714285712, 15.53, 15.545, 15.56142857142857, 15.587857142857143, 15.605714285714285, 15.609285714285713, 15.617142857142856, 15.640714285714285, 15.651428571428571, 15.660714285714286, 15.667857142857143, 15.670714285714284, 15.689999999999998, 15.704999999999998, 15.727142857142853, 15.771428571428569, 15.822142857142852, 15.857857142857139, 15.906428571428567, 15.969285714285709, 16.039999999999996, 16.08928571428571, 16.144999999999996, 16.20785714285714, 16.264285714285712, 16.32571428571428, 16.382142857142856, 16.439999999999998, 16.48428571428571, 16.506428571428568, 16.517142857142854, 16.549285714285713, 16.580000000000002, 16.583571428571428, 16.587857142857143, 16.60857142857143, 16.641428571428573, 16.66, 16.720000000000002, 16.76071428571429, 16.799285714285716, 16.860000000000003, 16.914285714285718, 16.96714285714286, 17.036428571428576, 17.094285714285718, 17.14428571428572, 17.20714285714286, 17.251428571428573, 17.305, 17.357857142857142, 17.408571428571427, 17.42142857142857, 17.445, 17.415, 17.374285714285712, 17.354999999999997, 17.322142857142858, 17.284285714285712, 17.222857142857144, 17.142857142857142, 17.07857142857143, 17.044999999999998, 17.012857142857143, 16.974285714285713, 16.98785714285714, 17.029285714285713, 17.07857142857143, 17.166428571428572, 17.242142857142856, 17.33, 17.412142857142854, 17.48071428571428, 17.550714285714285, 17.667142857142856, 17.787142857142857, 17.889285714285716, 17.950714285714287, 17.996428571428574, 18.005000000000003, 17.99928571428572, 17.978571428571435, 17.95214285714286, 17.94928571428572, 17.902142857142866, 17.855000000000008, 17.835000000000004, 17.83714285714286, 17.82928571428572, 17.79571428571429, 17.74785714285715, 17.665000000000003, 17.54571428571429, 17.366428571428575, 17.180000000000003, 17.055000000000003, 16.961428571428574, 16.841428571428576, 16.73785714285715, 16.59928571428572, 16.472857142857148, 16.347142857142863, 16.195714285714292, 16.086428571428577, 15.975000000000005, 15.926428571428575, 15.92214285714286, 15.970000000000004, 16.045000000000005, 16.06428571428572, 16.022857142857152, 15.965714285714293, 15.920000000000005, 15.919285714285719, 15.910000000000005, 15.882142857142863, 15.89928571428572, 15.850000000000005, 15.810714285714289, 15.777857142857147, 15.742857142857149, 15.701428571428577, 15.657142857142862, 15.611428571428576, 15.603571428571431, 15.617142857142861, 15.608571428571434, 15.605000000000006, 15.590714285714293, 15.597142857142861, 15.618571428571434, 15.665000000000006, 15.721428571428579, 15.765714285714292, 15.79071428571429, 15.846428571428577, 15.905714285714293, 15.96428571428572, 16.010714285714293, 16.120000000000008, 16.22785714285715, 16.317857142857147, 16.427857142857146, 16.53785714285715, 16.59642857142858, 16.681428571428576, 16.81071428571429, 16.91642857142858, 17.05571428571429, 17.16928571428572, 17.230000000000004, 17.27928571428572, 17.35285714285715, 17.36285714285715, 17.416428571428575, 17.481428571428577, 17.523571428571437, 17.544285714285717, 17.57714285714286, 17.586428571428574, 17.552857142857146, 17.535000000000004, 17.532142857142862, 17.522857142857145, 17.517857142857146, 17.56071428571429, 17.568571428571435, 17.55214285714286, 17.499285714285723, 17.464285714285722, 17.398571428571437, 17.350714285714293, 17.347142857142863, 17.369285714285724, 17.356428571428584, 17.30857142857144, 17.24857142857144, 17.21000000000001, 17.212857142857153, 17.175000000000008, 17.145714285714295, 17.152142857142866, 17.148571428571437, 17.12214285714287], \"text\": \"\", \"x\": [\"2015-01-02\", \"2015-01-05\", \"2015-01-06\", \"2015-01-07\", \"2015-01-08\", \"2015-01-09\", \"2015-01-12\", \"2015-01-13\", \"2015-01-14\", \"2015-01-15\", \"2015-01-16\", \"2015-01-20\", \"2015-01-21\", \"2015-01-22\", \"2015-01-23\", \"2015-01-26\", \"2015-01-27\", \"2015-01-28\", \"2015-01-29\", \"2015-01-30\", \"2015-02-02\", \"2015-02-03\", \"2015-02-04\", \"2015-02-05\", \"2015-02-06\", \"2015-02-09\", \"2015-02-10\", \"2015-02-11\", \"2015-02-12\", \"2015-02-13\", \"2015-02-17\", \"2015-02-18\", \"2015-02-19\", \"2015-02-20\", \"2015-02-23\", \"2015-02-24\", \"2015-02-25\", \"2015-02-26\", \"2015-02-27\", \"2015-03-02\", \"2015-03-03\", \"2015-03-04\", \"2015-03-05\", \"2015-03-06\", \"2015-03-09\", \"2015-03-10\", \"2015-03-11\", \"2015-03-12\", \"2015-03-13\", \"2015-03-16\", \"2015-03-17\", \"2015-03-18\", \"2015-03-19\", \"2015-03-20\", \"2015-03-23\", \"2015-03-24\", \"2015-03-25\", \"2015-03-26\", \"2015-03-27\", \"2015-03-30\", \"2015-03-31\", \"2015-04-01\", \"2015-04-02\", \"2015-04-06\", \"2015-04-07\", \"2015-04-08\", \"2015-04-09\", \"2015-04-10\", \"2015-04-13\", \"2015-04-14\", \"2015-04-15\", \"2015-04-16\", \"2015-04-17\", \"2015-04-20\", \"2015-04-21\", \"2015-04-22\", \"2015-04-23\", \"2015-04-24\", \"2015-04-27\", \"2015-04-28\", \"2015-04-29\", \"2015-04-30\", \"2015-05-01\", \"2015-05-04\", \"2015-05-05\", \"2015-05-06\", \"2015-05-07\", \"2015-05-08\", \"2015-05-11\", \"2015-05-12\", \"2015-05-13\", \"2015-05-14\", \"2015-05-15\", \"2015-05-18\", \"2015-05-19\", \"2015-05-20\", \"2015-05-21\", \"2015-05-22\", \"2015-05-26\", \"2015-05-27\", \"2015-05-28\", \"2015-05-29\", \"2015-06-01\", \"2015-06-02\", \"2015-06-03\", \"2015-06-04\", \"2015-06-05\", \"2015-06-08\", \"2015-06-09\", \"2015-06-10\", \"2015-06-11\", \"2015-06-12\", \"2015-06-15\", \"2015-06-16\", \"2015-06-17\", \"2015-06-18\", \"2015-06-19\", \"2015-06-22\", \"2015-06-23\", \"2015-06-24\", \"2015-06-25\", \"2015-06-26\", \"2015-06-29\", \"2015-06-30\", \"2015-07-01\", \"2015-07-02\", \"2015-07-06\", \"2015-07-07\", \"2015-07-08\", \"2015-07-09\", \"2015-07-10\", \"2015-07-13\", \"2015-07-14\", \"2015-07-15\", \"2015-07-16\", \"2015-07-17\", \"2015-07-20\", \"2015-07-21\", \"2015-07-22\", \"2015-07-23\", \"2015-07-24\", \"2015-07-27\", \"2015-07-28\", \"2015-07-29\", \"2015-07-30\", \"2015-07-31\", \"2015-08-03\", \"2015-08-04\", \"2015-08-05\", \"2015-08-06\", \"2015-08-07\", \"2015-08-10\", \"2015-08-11\", \"2015-08-12\", \"2015-08-13\", \"2015-08-14\", \"2015-08-17\", \"2015-08-18\", \"2015-08-19\", \"2015-08-20\", \"2015-08-21\", \"2015-08-24\", \"2015-08-25\", \"2015-08-26\", \"2015-08-27\", \"2015-08-28\", \"2015-08-31\", \"2015-09-01\", \"2015-09-02\", \"2015-09-03\", \"2015-09-04\", \"2015-09-08\", \"2015-09-09\", \"2015-09-10\", \"2015-09-11\", \"2015-09-14\", \"2015-09-15\", \"2015-09-16\", \"2015-09-17\", \"2015-09-18\", \"2015-09-21\", \"2015-09-22\", \"2015-09-23\", \"2015-09-24\", \"2015-09-25\", \"2015-09-28\", \"2015-09-29\", \"2015-09-30\", \"2015-10-01\", \"2015-10-02\", \"2015-10-05\", \"2015-10-06\", \"2015-10-07\", \"2015-10-08\", \"2015-10-09\", \"2015-10-12\", \"2015-10-13\", \"2015-10-14\", \"2015-10-15\", \"2015-10-16\", \"2015-10-19\", \"2015-10-20\", \"2015-10-21\", \"2015-10-22\", \"2015-10-23\", \"2015-10-26\", \"2015-10-27\", \"2015-10-28\", \"2015-10-29\", \"2015-10-30\", \"2015-11-02\", \"2015-11-03\", \"2015-11-04\", \"2015-11-05\", \"2015-11-06\", \"2015-11-09\", \"2015-11-10\", \"2015-11-11\", \"2015-11-12\", \"2015-11-13\", \"2015-11-16\", \"2015-11-17\", \"2015-11-18\", \"2015-11-19\", \"2015-11-20\", \"2015-11-23\", \"2015-11-24\", \"2015-11-25\", \"2015-11-27\", \"2015-11-30\", \"2015-12-01\", \"2015-12-02\", \"2015-12-03\", \"2015-12-04\", \"2015-12-07\", \"2015-12-08\", \"2015-12-09\", \"2015-12-10\", \"2015-12-11\", \"2015-12-14\", \"2015-12-15\", \"2015-12-16\", \"2015-12-17\", \"2015-12-18\", \"2015-12-21\", \"2015-12-22\", \"2015-12-23\", \"2015-12-24\", \"2015-12-28\", \"2015-12-29\", \"2015-12-30\", \"2015-12-31\"], \"name\": \"SMA(Close,14)\"}, {\"mode\": \"lines\", \"type\": \"scatter\", \"line\": {\"width\": 1.3, \"dash\": \"solid\", \"color\": \"rgba(55, 128, 191, 0.89999999999999991)\"}, \"y\": [\"\", \"\", \"\", \"\", \"\", \"\", \"\", \"\", \"\", \"\", \"\", \"\", \"\", 18.16424488720446, 17.817437221070534, 17.579826675804185, 17.455763933122327, 17.305919932799974, 16.951899836799086, 16.65016352857594, 16.377180818263767, 16.19262251270503, 16.128400797400797, 16.19285649338803, 16.425959168522983, 16.5460878248807, 16.668383805811093, 16.725648207853663, 16.89419524506156, 17.016664259829827, 17.12684863270959, 17.10202251188909, 17.078101527597845, 16.95895274656164, 16.8484222044669, 16.828640185381026, 16.766624685656858, 16.74877089500667, 16.812812839724852, 16.821938419743784, 16.81285058730217, 16.82761706916501, 16.741934061847726, 16.662154303892788, 16.554366088890664, 16.5500107734074, 16.539283677602587, 16.48880878948026, 16.475557297059435, 16.41983779401592, 16.29470312996738, 16.291712992712217, 16.341447819513203, 16.34194016570601, 16.349034369150424, 16.3764408441978, 16.42653006667295, 16.402246023517066, 16.383517187143855, 16.38319450744973, 16.333601693056565, 16.269243837195773, 16.183893438372134, 16.06371322920679, 15.926323280215678, 15.811556015532489, 15.832439269409141, 15.791086047086079, 15.817482440935306, 15.869937863882596, 15.880162329902907, 15.917255528863002, 15.894873734484605, 15.895100531763882, 15.882290545617158, 15.884336223050843, 15.88909118204178, 15.884316168975076, 15.869111451390566, 15.869551565257717, 15.948635472610151, 15.99373730408314, 16.08623817951481, 16.295075965584754, 16.4228183011315, 16.507741325269222, 16.562036669320857, 16.65404122531872, 16.720452338239316, 16.776060306607903, 16.818669629143795, 16.841584993760794, 16.779035199926067, 16.714536118411978, 16.78392186807592, 16.791436612076303, 16.812048694850255, 16.86200888955282, 16.86127418908802, 16.886008771979125, 16.870463820069237, 16.86832310369117, 16.868315950629558, 16.88154447799988, 16.950855549801563, 16.969242250073876, 17.090114327451133, 17.15587456756412, 17.291781042539334, 17.506505398870903, 17.63691826420151, 17.744215413756304, 17.80702702589236, 17.89022596274717, 17.912889414739762, 17.887659790586323, 17.819061017124373, 17.79248964486044, 17.830439480586843, 17.74751613864008, 17.737545116914056, 17.69341033051727, 17.79840579025362, 17.796711987194914, 17.779318458054977, 17.771907142172154, 17.768352733530854, 17.775135142609972, 17.892520803704855, 17.89225657436402, 17.880914975433406, 17.812181032978458, 17.684116215644544, 17.745796802376628, 17.927607715342354, 18.129603365226128, 18.34718731426777, 18.514818501878505, 18.75660436001016, 18.895635172778313, 18.95893492680149, 18.958789115144434, 18.86592245634888, 18.79518524243699, 18.69160789341385, 18.579190552237105, 18.430911970623374, 18.41673180217603, 18.416489909685744, 18.402970162917246, 18.384608316603398, 18.378629706599927, 18.22683713431204, 18.19709760190742, 18.197873150118546, 18.19615248387722, 18.189068921292368, 18.107010759362037, 18.04338051914757, 18.279378986018855, 18.578372224037732, 18.939208709476276, 19.080299571525092, 19.006326964677342, 18.894745484330915, 18.693194583277077, 18.52204717363694, 18.42271383458277, 18.2358690512148, 17.979365100144513, 17.64208298614385, 17.249993574547602, 16.829733426729693, 16.668674939105447, 16.660756051277172, 16.61278241323879, 16.564037570894303, 16.605322569888678, 16.52756900712618, 16.486879505978493, 16.411152490811777, 16.412592564381566, 16.413709317883757, 16.420640972069975, 16.420967272663514, 16.39541445074068, 16.416505023165964, 16.379965161350416, 16.336227105096334, 16.310279046585425, 16.155474138454682, 15.92822572981269, 15.898514149775087, 15.920805480807347, 15.908915553545443, 15.90849249135276, 15.889683209822177, 15.896211006970901, 16.029937418927698, 16.145112166381477, 16.22708014759871, 16.32388240407244, 16.338519095742406, 16.37252345277191, 16.533173841785704, 16.654913713259752, 16.726233001728684, 17.08712102496169, 17.269488365697303, 17.31271093409179, 17.382430863955143, 17.45555253631008, 17.523113552932518, 17.6376987985363, 17.927590817302768, 18.064044351218097, 18.143710730440194, 18.183991864571862, 18.176800279483867, 18.13177399205628, 18.040257085626017, 18.049764529803685, 18.12820239647551, 18.103378712534717, 18.10086522887428, 18.088328375832024, 18.030128071466216, 18.02077031159721, 17.935755287291094, 17.915667430058924, 17.90310240886105, 17.876426073917212, 17.88254276691652, 17.904938209766758, 17.904873229189377, 17.93846106567273, 17.91715314160347, 17.89522131794996, 17.966366469753705, 17.999711822071532, 17.993858991348375, 18.050030296940005, 18.034961248170507, 18.055786036518604, 17.95619397649486, 17.888686514243034, 17.89350970627543, 17.768334773838614, 17.700675921849957, 17.711382922364777, 17.709880729998098, 17.7073543808439], \"text\": \"\", \"x\": [\"2015-01-02\", \"2015-01-05\", \"2015-01-06\", \"2015-01-07\", \"2015-01-08\", \"2015-01-09\", \"2015-01-12\", \"2015-01-13\", \"2015-01-14\", \"2015-01-15\", \"2015-01-16\", \"2015-01-20\", \"2015-01-21\", \"2015-01-22\", \"2015-01-23\", \"2015-01-26\", \"2015-01-27\", \"2015-01-28\", \"2015-01-29\", \"2015-01-30\", \"2015-02-02\", \"2015-02-03\", \"2015-02-04\", \"2015-02-05\", \"2015-02-06\", \"2015-02-09\", \"2015-02-10\", \"2015-02-11\", \"2015-02-12\", \"2015-02-13\", \"2015-02-17\", \"2015-02-18\", \"2015-02-19\", \"2015-02-20\", \"2015-02-23\", \"2015-02-24\", \"2015-02-25\", \"2015-02-26\", \"2015-02-27\", \"2015-03-02\", \"2015-03-03\", \"2015-03-04\", \"2015-03-05\", \"2015-03-06\", \"2015-03-09\", \"2015-03-10\", \"2015-03-11\", \"2015-03-12\", \"2015-03-13\", \"2015-03-16\", \"2015-03-17\", \"2015-03-18\", \"2015-03-19\", \"2015-03-20\", \"2015-03-23\", \"2015-03-24\", \"2015-03-25\", \"2015-03-26\", \"2015-03-27\", \"2015-03-30\", \"2015-03-31\", \"2015-04-01\", \"2015-04-02\", \"2015-04-06\", \"2015-04-07\", \"2015-04-08\", \"2015-04-09\", \"2015-04-10\", \"2015-04-13\", \"2015-04-14\", \"2015-04-15\", \"2015-04-16\", \"2015-04-17\", \"2015-04-20\", \"2015-04-21\", \"2015-04-22\", \"2015-04-23\", \"2015-04-24\", \"2015-04-27\", \"2015-04-28\", \"2015-04-29\", \"2015-04-30\", \"2015-05-01\", \"2015-05-04\", \"2015-05-05\", \"2015-05-06\", \"2015-05-07\", \"2015-05-08\", \"2015-05-11\", \"2015-05-12\", \"2015-05-13\", \"2015-05-14\", \"2015-05-15\", \"2015-05-18\", \"2015-05-19\", \"2015-05-20\", \"2015-05-21\", \"2015-05-22\", \"2015-05-26\", \"2015-05-27\", \"2015-05-28\", \"2015-05-29\", \"2015-06-01\", \"2015-06-02\", \"2015-06-03\", \"2015-06-04\", \"2015-06-05\", \"2015-06-08\", \"2015-06-09\", \"2015-06-10\", \"2015-06-11\", \"2015-06-12\", \"2015-06-15\", \"2015-06-16\", \"2015-06-17\", \"2015-06-18\", \"2015-06-19\", \"2015-06-22\", \"2015-06-23\", \"2015-06-24\", \"2015-06-25\", \"2015-06-26\", \"2015-06-29\", \"2015-06-30\", \"2015-07-01\", \"2015-07-02\", \"2015-07-06\", \"2015-07-07\", \"2015-07-08\", \"2015-07-09\", \"2015-07-10\", \"2015-07-13\", \"2015-07-14\", \"2015-07-15\", \"2015-07-16\", \"2015-07-17\", \"2015-07-20\", \"2015-07-21\", \"2015-07-22\", \"2015-07-23\", \"2015-07-24\", \"2015-07-27\", \"2015-07-28\", \"2015-07-29\", \"2015-07-30\", \"2015-07-31\", \"2015-08-03\", \"2015-08-04\", \"2015-08-05\", \"2015-08-06\", \"2015-08-07\", \"2015-08-10\", \"2015-08-11\", \"2015-08-12\", \"2015-08-13\", \"2015-08-14\", \"2015-08-17\", \"2015-08-18\", \"2015-08-19\", \"2015-08-20\", \"2015-08-21\", \"2015-08-24\", \"2015-08-25\", \"2015-08-26\", \"2015-08-27\", \"2015-08-28\", \"2015-08-31\", \"2015-09-01\", \"2015-09-02\", \"2015-09-03\", \"2015-09-04\", \"2015-09-08\", \"2015-09-09\", \"2015-09-10\", \"2015-09-11\", \"2015-09-14\", \"2015-09-15\", \"2015-09-16\", \"2015-09-17\", \"2015-09-18\", \"2015-09-21\", \"2015-09-22\", \"2015-09-23\", \"2015-09-24\", \"2015-09-25\", \"2015-09-28\", \"2015-09-29\", \"2015-09-30\", \"2015-10-01\", \"2015-10-02\", \"2015-10-05\", \"2015-10-06\", \"2015-10-07\", \"2015-10-08\", \"2015-10-09\", \"2015-10-12\", \"2015-10-13\", \"2015-10-14\", \"2015-10-15\", \"2015-10-16\", \"2015-10-19\", \"2015-10-20\", \"2015-10-21\", \"2015-10-22\", \"2015-10-23\", \"2015-10-26\", \"2015-10-27\", \"2015-10-28\", \"2015-10-29\", \"2015-10-30\", \"2015-11-02\", \"2015-11-03\", \"2015-11-04\", \"2015-11-05\", \"2015-11-06\", \"2015-11-09\", \"2015-11-10\", \"2015-11-11\", \"2015-11-12\", \"2015-11-13\", \"2015-11-16\", \"2015-11-17\", \"2015-11-18\", \"2015-11-19\", \"2015-11-20\", \"2015-11-23\", \"2015-11-24\", \"2015-11-25\", \"2015-11-27\", \"2015-11-30\", \"2015-12-01\", \"2015-12-02\", \"2015-12-03\", \"2015-12-04\", \"2015-12-07\", \"2015-12-08\", \"2015-12-09\", \"2015-12-10\", \"2015-12-11\", \"2015-12-14\", \"2015-12-15\", \"2015-12-16\", \"2015-12-17\", \"2015-12-18\", \"2015-12-21\", \"2015-12-22\", \"2015-12-23\", \"2015-12-24\", \"2015-12-28\", \"2015-12-29\", \"2015-12-30\", \"2015-12-31\"], \"name\": \"UPPER(Close,14)\"}, {\"mode\": \"lines\", \"type\": \"scatter\", \"line\": {\"width\": 1.3, \"dash\": \"solid\", \"color\": \"rgba(55, 128, 191, 0.79999999999999982)\"}, \"y\": [\"\", \"\", \"\", \"\", \"\", \"\", \"\", \"\", \"\", \"\", \"\", \"\", \"\", 14.672897969938392, 14.709705636072313, 14.728744752767234, 14.677093209734807, 14.578365781485731, 14.666671591772337, 14.706979328566915, 14.805676324593371, 14.910234630152111, 14.938742059742056, 14.984286363754823, 14.909755117191303, 14.94534074654787, 14.967330479903197, 14.948637506432052, 14.91437618350987, 14.900478597313029, 14.933151367290407, 15.115120345253773, 15.250469900973583, 15.545332967724073, 15.7615777955331, 15.851359814618974, 16.013375314343143, 16.04122910499333, 15.880044303132289, 15.822347294541931, 15.777149412697828, 15.688097216549277, 15.678065938152276, 15.702131410392925, 15.744205339680772, 15.675703512306889, 15.672144893825983, 15.681191210519742, 15.67872841722628, 15.69873363455551, 15.766725441461192, 15.761144150144926, 15.682837894772517, 15.658059834293997, 15.605251345135299, 15.544987727230776, 15.410612790469909, 15.320611119340079, 15.216482812856142, 15.178234063978842, 15.12496973551486, 15.092184734232795, 15.098963704485001, 15.130572485078917, 15.17796243407003, 15.239872555896081, 15.233275016305141, 15.257485381485345, 15.242517559064693, 15.220062136117404, 15.242694812954232, 15.258458756851283, 15.316554836943965, 15.323470896807544, 15.351995168668553, 15.397092348377727, 15.413765960815363, 15.437112402453497, 15.46660283432372, 15.471877006170851, 15.431364527389844, 15.416262695916856, 15.368047534770897, 15.247781177272383, 15.221467413154203, 15.207972960445055, 15.250820473536274, 15.284530203252697, 15.359547661760676, 15.402511121963519, 15.471330370856197, 15.574129291953485, 15.749536228645358, 15.936892453016583, 15.980363846209789, 16.088563387923692, 16.156522733721168, 16.150848253304318, 16.173011525197687, 16.2125626565923, 16.289536179930767, 16.298819753451685, 16.307398335084727, 16.33559837914298, 16.332001593055583, 16.350757749926125, 16.349885672548872, 16.36555400386446, 16.306790386032098, 16.213494601129103, 16.191653164369928, 16.190070300529417, 16.265830116964793, 16.298345465824266, 16.375682013831675, 16.526625923699395, 16.683796125732773, 16.81751035513956, 16.88527480512744, 17.069626718502775, 17.105312025943086, 17.19658966948273, 17.031594209746377, 16.95185944137651, 16.930681541945017, 16.87237857211356, 16.80021869504057, 16.670579143104316, 16.39319348200943, 16.26488628277884, 16.20908502456659, 16.21353325273583, 16.264455212926883, 16.229917483337655, 16.13096371322907, 16.02753949191673, 15.985669828589373, 15.969467212407208, 15.903395639989837, 15.928650541507395, 16.002493644627073, 16.142639456284137, 16.468363257936833, 16.779100471848725, 17.086963535157583, 17.32223801919147, 17.561945172233774, 17.593268197823974, 17.582081518885694, 17.554172694225624, 17.519677397682322, 17.51994172197151, 17.577448579973694, 17.512902398092596, 17.472126849881462, 17.478133230408503, 17.469502507279074, 17.484417812066543, 17.45233376656673, 17.05062101398115, 16.513056347390847, 15.793648433380872, 15.279700428474916, 15.103673035322663, 15.028111658526234, 14.989662559580076, 14.953667112077357, 14.775857593988674, 14.709845234499497, 14.714920614141214, 14.749345585284734, 14.922863568309552, 15.120266573270316, 15.184182203751702, 15.183529663008548, 15.327217586761218, 15.525962429105707, 15.523248858682765, 15.518145278588126, 15.444549065450094, 15.428847509188232, 15.42597886418987, 15.406290682116254, 15.34364474221575, 15.377604155907925, 15.304585549259327, 15.204923548262613, 15.175749124363879, 15.149487180617962, 15.09257809627173, 15.158811575831043, 15.294631413044462, 15.308628707367776, 15.313480233478375, 15.308227303597425, 15.301507508647251, 15.29174536160641, 15.298074707314822, 15.207205438215171, 15.184887833618536, 15.215776995258448, 15.207546167356146, 15.242909475686178, 15.320333690085242, 15.278254729642882, 15.273657715311687, 15.295195569699903, 15.152878975038327, 15.186225920016998, 15.323003351622505, 15.47328342175915, 15.620161749404218, 15.66974358992464, 15.725158344320853, 15.693837754125813, 15.76881279163906, 15.967717840988389, 16.15457956399958, 16.28319972051614, 16.42679743651516, 16.665457200088284, 16.67594975591061, 16.704654746381642, 16.859478430322437, 16.946277628268593, 17.00024305273941, 17.124157642819505, 17.152086831259936, 17.169958998423198, 17.154332569941083, 17.161183305424675, 17.169288211797078, 17.153171518797773, 17.216490361661823, 17.232269627953492, 17.165824648612993, 17.081418286967974, 17.033350110621484, 16.830776387389168, 16.701716749357054, 16.70042672293735, 16.688541131631442, 16.67789589468666, 16.561356820624276, 16.540948880648024, 16.53131348575699, 16.532204579438876, 16.5816652261614, 16.590752649578633, 16.592902791920956, 16.587262127144776, 16.53693133344184], \"text\": \"\", \"x\": [\"2015-01-02\", \"2015-01-05\", \"2015-01-06\", \"2015-01-07\", \"2015-01-08\", \"2015-01-09\", \"2015-01-12\", \"2015-01-13\", \"2015-01-14\", \"2015-01-15\", \"2015-01-16\", \"2015-01-20\", \"2015-01-21\", \"2015-01-22\", \"2015-01-23\", \"2015-01-26\", \"2015-01-27\", \"2015-01-28\", \"2015-01-29\", \"2015-01-30\", \"2015-02-02\", \"2015-02-03\", \"2015-02-04\", \"2015-02-05\", \"2015-02-06\", \"2015-02-09\", \"2015-02-10\", \"2015-02-11\", \"2015-02-12\", \"2015-02-13\", \"2015-02-17\", \"2015-02-18\", \"2015-02-19\", \"2015-02-20\", \"2015-02-23\", \"2015-02-24\", \"2015-02-25\", \"2015-02-26\", \"2015-02-27\", \"2015-03-02\", \"2015-03-03\", \"2015-03-04\", \"2015-03-05\", \"2015-03-06\", \"2015-03-09\", \"2015-03-10\", \"2015-03-11\", \"2015-03-12\", \"2015-03-13\", \"2015-03-16\", \"2015-03-17\", \"2015-03-18\", \"2015-03-19\", \"2015-03-20\", \"2015-03-23\", \"2015-03-24\", \"2015-03-25\", \"2015-03-26\", \"2015-03-27\", \"2015-03-30\", \"2015-03-31\", \"2015-04-01\", \"2015-04-02\", \"2015-04-06\", \"2015-04-07\", \"2015-04-08\", \"2015-04-09\", \"2015-04-10\", \"2015-04-13\", \"2015-04-14\", \"2015-04-15\", \"2015-04-16\", \"2015-04-17\", \"2015-04-20\", \"2015-04-21\", \"2015-04-22\", \"2015-04-23\", \"2015-04-24\", \"2015-04-27\", \"2015-04-28\", \"2015-04-29\", \"2015-04-30\", \"2015-05-01\", \"2015-05-04\", \"2015-05-05\", \"2015-05-06\", \"2015-05-07\", \"2015-05-08\", \"2015-05-11\", \"2015-05-12\", \"2015-05-13\", \"2015-05-14\", \"2015-05-15\", \"2015-05-18\", \"2015-05-19\", \"2015-05-20\", \"2015-05-21\", \"2015-05-22\", \"2015-05-26\", \"2015-05-27\", \"2015-05-28\", \"2015-05-29\", \"2015-06-01\", \"2015-06-02\", \"2015-06-03\", \"2015-06-04\", \"2015-06-05\", \"2015-06-08\", \"2015-06-09\", \"2015-06-10\", \"2015-06-11\", \"2015-06-12\", \"2015-06-15\", \"2015-06-16\", \"2015-06-17\", \"2015-06-18\", \"2015-06-19\", \"2015-06-22\", \"2015-06-23\", \"2015-06-24\", \"2015-06-25\", \"2015-06-26\", \"2015-06-29\", \"2015-06-30\", \"2015-07-01\", \"2015-07-02\", \"2015-07-06\", \"2015-07-07\", \"2015-07-08\", \"2015-07-09\", \"2015-07-10\", \"2015-07-13\", \"2015-07-14\", \"2015-07-15\", \"2015-07-16\", \"2015-07-17\", \"2015-07-20\", \"2015-07-21\", \"2015-07-22\", \"2015-07-23\", \"2015-07-24\", \"2015-07-27\", \"2015-07-28\", \"2015-07-29\", \"2015-07-30\", \"2015-07-31\", \"2015-08-03\", \"2015-08-04\", \"2015-08-05\", \"2015-08-06\", \"2015-08-07\", \"2015-08-10\", \"2015-08-11\", \"2015-08-12\", \"2015-08-13\", \"2015-08-14\", \"2015-08-17\", \"2015-08-18\", \"2015-08-19\", \"2015-08-20\", \"2015-08-21\", \"2015-08-24\", \"2015-08-25\", \"2015-08-26\", \"2015-08-27\", \"2015-08-28\", \"2015-08-31\", \"2015-09-01\", \"2015-09-02\", \"2015-09-03\", \"2015-09-04\", \"2015-09-08\", \"2015-09-09\", \"2015-09-10\", \"2015-09-11\", \"2015-09-14\", \"2015-09-15\", \"2015-09-16\", \"2015-09-17\", \"2015-09-18\", \"2015-09-21\", \"2015-09-22\", \"2015-09-23\", \"2015-09-24\", \"2015-09-25\", \"2015-09-28\", \"2015-09-29\", \"2015-09-30\", \"2015-10-01\", \"2015-10-02\", \"2015-10-05\", \"2015-10-06\", \"2015-10-07\", \"2015-10-08\", \"2015-10-09\", \"2015-10-12\", \"2015-10-13\", \"2015-10-14\", \"2015-10-15\", \"2015-10-16\", \"2015-10-19\", \"2015-10-20\", \"2015-10-21\", \"2015-10-22\", \"2015-10-23\", \"2015-10-26\", \"2015-10-27\", \"2015-10-28\", \"2015-10-29\", \"2015-10-30\", \"2015-11-02\", \"2015-11-03\", \"2015-11-04\", \"2015-11-05\", \"2015-11-06\", \"2015-11-09\", \"2015-11-10\", \"2015-11-11\", \"2015-11-12\", \"2015-11-13\", \"2015-11-16\", \"2015-11-17\", \"2015-11-18\", \"2015-11-19\", \"2015-11-20\", \"2015-11-23\", \"2015-11-24\", \"2015-11-25\", \"2015-11-27\", \"2015-11-30\", \"2015-12-01\", \"2015-12-02\", \"2015-12-03\", \"2015-12-04\", \"2015-12-07\", \"2015-12-08\", \"2015-12-09\", \"2015-12-10\", \"2015-12-11\", \"2015-12-14\", \"2015-12-15\", \"2015-12-16\", \"2015-12-17\", \"2015-12-18\", \"2015-12-21\", \"2015-12-22\", \"2015-12-23\", \"2015-12-24\", \"2015-12-28\", \"2015-12-29\", \"2015-12-30\", \"2015-12-31\"], \"name\": \"LOWER(Close,14)\"}], {\"legend\": {\"bgcolor\": \"#FFFFFF\", \"font\": {\"color\": \"#666666\"}}, \"titlefont\": {\"color\": \"#151516\"}, \"paper_bgcolor\": \"#FFFFFF\", \"plot_bgcolor\": \"#E5E5E5\", \"yaxis1\": {\"titlefont\": {\"color\": \"#666666\"}, \"showgrid\": true, \"tickfont\": {\"color\": \"#666666\"}, \"zerolinecolor\": \"#F6F6F6\", \"gridcolor\": \"#F6F6F6\", \"title\": \"\"}, \"xaxis1\": {\"titlefont\": {\"color\": \"#666666\"}, \"showgrid\": true, \"tickfont\": {\"color\": \"#666666\"}, \"zerolinecolor\": \"#F6F6F6\", \"gridcolor\": \"#F6F6F6\", \"title\": \"\"}}, {\"linkText\": \"Export to plot.ly\", \"showLink\": true})});</script>"
      ],
      "text/plain": [
       "<IPython.core.display.HTML object>"
      ]
     },
     "metadata": {},
     "output_type": "display_data"
    }
   ],
   "source": [
    "BAC['Close'].ix['2015-01-01':'2016-01-01'].ta_plot(study='boll')"
   ]
  },
  {
   "cell_type": "markdown",
   "metadata": {},
   "source": [
    "# Great Job!\n",
    "\n",
    "Definitely a lot of more specific finance topics here, so don't worry if you didn't understand them all! The only thing you should be concerned with understanding are the basic pandas and visualization oeprations."
   ]
  }
 ],
 "metadata": {
  "kernelspec": {
   "display_name": "Python 3",
   "language": "python",
   "name": "python3"
  },
  "language_info": {
   "codemirror_mode": {
    "name": "ipython",
    "version": 3
   },
   "file_extension": ".py",
   "mimetype": "text/x-python",
   "name": "python",
   "nbconvert_exporter": "python",
   "pygments_lexer": "ipython3",
   "version": "3.6.3"
  }
 },
 "nbformat": 4,
 "nbformat_minor": 1
}
